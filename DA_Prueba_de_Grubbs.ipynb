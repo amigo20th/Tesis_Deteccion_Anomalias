{
  "nbformat": 4,
  "nbformat_minor": 0,
  "metadata": {
    "colab": {
      "name": "DA_Prueba_de_Grubbs.ipynb",
      "provenance": []
    },
    "kernelspec": {
      "name": "python3",
      "display_name": "Python 3"
    }
  },
  "cells": [
    {
      "cell_type": "markdown",
      "metadata": {
        "id": "A7aubB7AEA0q"
      },
      "source": [
        "<h1>Detección de anomalías por Prueba de Grubbs</h1>\n",
        "El presente código corresponde a la detección de anomalías por medio de la Prueba de Grubbs.\n",
        "Lo que busca este código es brindar una guía o tutorial para las personas que mantegan dudas respecto a cómo es la aplicación del método.\n",
        " \n",
        "Este código está basado en la tesis:\n",
        "<h1>AQUÍ VAN LOS DATOS DE LA TESIS, SOLO QUE FALTA VER EL NOMBRE FINAL DE ESTA</h1>"
      ]
    },
    {
      "cell_type": "markdown",
      "metadata": {
        "id": "3mierZsfAu76"
      },
      "source": [
        "<H2>El conjunto de datos</H2>\n",
        "El conjunto de datos utilizado para el siguiente análisis fue sacado de la siguiente publicación:\n",
        "\n",
        "\n",
        "*  Sokal, R. R., & Hunter, P. E. (1955). A Morphometric Analysis of Ddt-Resistant and Non-Resistant House Fly Strains1, 2. Annals of the Entomological Society of America, 48(6), 499–507. https://doi.org/10.1093/aesa/48.6.499\n",
        "\n",
        "El conjunto de datos es una muestra de una población de moscas domésticas a las cuales se les midieron sus alas y se registraron.\n",
        "Las mediciones tomadas para la anterior investigación representan una distribución Gaussina, estos datos pertenecen al campo de la biometría.\n",
        "\n",
        "El conjunto de datos se puede adquirir libremente en la siguiente liga:\n",
        "\n",
        "\n",
        "*   https://seattlecentral.edu/qelp/sets/057/057.html#About\n",
        "\n",
        "\n",
        "\n",
        "\n",
        "\n",
        "‌"
      ]
    },
    {
      "cell_type": "code",
      "metadata": {
        "id": "pGr1sresFe1K"
      },
      "source": [
        "import numpy as np\n",
        "import matplotlib.pyplot as plt\n",
        "import seaborn as sns\n",
        "import pandas as pd\n",
        "from scipy.stats import shapiro"
      ],
      "execution_count": 1,
      "outputs": []
    },
    {
      "cell_type": "code",
      "metadata": {
        "id": "wYuZgLpVFFCT"
      },
      "source": [
        "df = pd.read_csv(\"/content/sample_data/dataset_ala_mosca_domestica.csv\", sep=';',\n",
        "                 names = ['long_ala'])"
      ],
      "execution_count": 2,
      "outputs": []
    },
    {
      "cell_type": "code",
      "metadata": {
        "colab": {
          "base_uri": "https://localhost:8080/",
          "height": 424
        },
        "id": "hBm5dweeFWJ2",
        "outputId": "e99c6d51-36f9-4a89-ecee-76ae84335093"
      },
      "source": [
        "df"
      ],
      "execution_count": 3,
      "outputs": [
        {
          "output_type": "execute_result",
          "data": {
            "text/html": [
              "<div>\n",
              "<style scoped>\n",
              "    .dataframe tbody tr th:only-of-type {\n",
              "        vertical-align: middle;\n",
              "    }\n",
              "\n",
              "    .dataframe tbody tr th {\n",
              "        vertical-align: top;\n",
              "    }\n",
              "\n",
              "    .dataframe thead th {\n",
              "        text-align: right;\n",
              "    }\n",
              "</style>\n",
              "<table border=\"1\" class=\"dataframe\">\n",
              "  <thead>\n",
              "    <tr style=\"text-align: right;\">\n",
              "      <th></th>\n",
              "      <th>long_ala</th>\n",
              "    </tr>\n",
              "  </thead>\n",
              "  <tbody>\n",
              "    <tr>\n",
              "      <th>0</th>\n",
              "      <td>36</td>\n",
              "    </tr>\n",
              "    <tr>\n",
              "      <th>1</th>\n",
              "      <td>37</td>\n",
              "    </tr>\n",
              "    <tr>\n",
              "      <th>2</th>\n",
              "      <td>38</td>\n",
              "    </tr>\n",
              "    <tr>\n",
              "      <th>3</th>\n",
              "      <td>38</td>\n",
              "    </tr>\n",
              "    <tr>\n",
              "      <th>4</th>\n",
              "      <td>39</td>\n",
              "    </tr>\n",
              "    <tr>\n",
              "      <th>...</th>\n",
              "      <td>...</td>\n",
              "    </tr>\n",
              "    <tr>\n",
              "      <th>95</th>\n",
              "      <td>52</td>\n",
              "    </tr>\n",
              "    <tr>\n",
              "      <th>96</th>\n",
              "      <td>53</td>\n",
              "    </tr>\n",
              "    <tr>\n",
              "      <th>97</th>\n",
              "      <td>53</td>\n",
              "    </tr>\n",
              "    <tr>\n",
              "      <th>98</th>\n",
              "      <td>54</td>\n",
              "    </tr>\n",
              "    <tr>\n",
              "      <th>99</th>\n",
              "      <td>55</td>\n",
              "    </tr>\n",
              "  </tbody>\n",
              "</table>\n",
              "<p>100 rows × 1 columns</p>\n",
              "</div>"
            ],
            "text/plain": [
              "    long_ala\n",
              "0         36\n",
              "1         37\n",
              "2         38\n",
              "3         38\n",
              "4         39\n",
              "..       ...\n",
              "95        52\n",
              "96        53\n",
              "97        53\n",
              "98        54\n",
              "99        55\n",
              "\n",
              "[100 rows x 1 columns]"
            ]
          },
          "metadata": {
            "tags": []
          },
          "execution_count": 3
        }
      ]
    },
    {
      "cell_type": "markdown",
      "metadata": {
        "id": "gf6AvM9iGdVn"
      },
      "source": [
        "Se puede observar que la muestra crea una perfecta campana de Gauss, por ende vamos a insertar un dato artificalmente para juegue el rol de anomalía y así crear un ejemplo de juguete."
      ]
    },
    {
      "cell_type": "code",
      "metadata": {
        "colab": {
          "base_uri": "https://localhost:8080/",
          "height": 340
        },
        "id": "lObA9DYzGQ9Q",
        "outputId": "385282c8-00bf-4279-a3ef-8195114cc550"
      },
      "source": [
        "sns.distplot(df)"
      ],
      "execution_count": 4,
      "outputs": [
        {
          "output_type": "stream",
          "text": [
            "/usr/local/lib/python3.6/dist-packages/seaborn/distributions.py:2551: FutureWarning: `distplot` is a deprecated function and will be removed in a future version. Please adapt your code to use either `displot` (a figure-level function with similar flexibility) or `histplot` (an axes-level function for histograms).\n",
            "  warnings.warn(msg, FutureWarning)\n"
          ],
          "name": "stderr"
        },
        {
          "output_type": "execute_result",
          "data": {
            "text/plain": [
              "<matplotlib.axes._subplots.AxesSubplot at 0x7f5d796d2da0>"
            ]
          },
          "metadata": {
            "tags": []
          },
          "execution_count": 4
        },
        {
          "output_type": "display_data",
          "data": {
            "image/png": "[encoded data removed]",
            "text/plain": [
              "<Figure size 432x288 with 1 Axes>"
            ]
          },
          "metadata": {
            "tags": [],
            "needs_background": "light"
          }
        }
      ]
    },
    {
      "cell_type": "code",
      "metadata": {
        "id": "G-xXH3fXG2-G"
      },
      "source": [
        "x = df['long_ala'].values"
      ],
      "execution_count": 5,
      "outputs": []
    },
    {
      "cell_type": "code",
      "metadata": {
        "colab": {
          "base_uri": "https://localhost:8080/"
        },
        "id": "PHBby2RBXpCN",
        "outputId": "f9f8cfa5-e047-44b6-979e-15c9a809d274"
      },
      "source": [
        "x"
      ],
      "execution_count": 6,
      "outputs": [
        {
          "output_type": "execute_result",
          "data": {
            "text/plain": [
              "array([36, 37, 38, 38, 39, 39, 40, 40, 40, 40, 41, 41, 41, 41, 41, 41, 42,\n",
              "       42, 42, 42, 42, 42, 42, 43, 43, 43, 43, 43, 43, 43, 43, 44, 44, 44,\n",
              "       44, 44, 44, 44, 44, 44, 45, 45, 45, 45, 45, 45, 45, 45, 45, 45, 46,\n",
              "       46, 46, 46, 46, 46, 46, 46, 46, 46, 47, 47, 47, 47, 47, 47, 47, 47,\n",
              "       47, 48, 48, 48, 48, 48, 48, 48, 48, 49, 49, 49, 49, 49, 49, 49, 50,\n",
              "       50, 50, 50, 50, 50, 51, 51, 51, 51, 52, 52, 53, 53, 54, 55])"
            ]
          },
          "metadata": {
            "tags": []
          },
          "execution_count": 6
        }
      ]
    },
    {
      "cell_type": "markdown",
      "metadata": {
        "id": "Uo-u8_Ij_azm"
      },
      "source": [
        "Añadimos artificialmente un dato que se anómalo en nuestra muestra."
      ]
    },
    {
      "cell_type": "code",
      "metadata": {
        "id": "p_Lr7LVaX1v7"
      },
      "source": [
        "x_anom = np.append(x, [60], axis=0)"
      ],
      "execution_count": 7,
      "outputs": []
    },
    {
      "cell_type": "code",
      "metadata": {
        "colab": {
          "base_uri": "https://localhost:8080/"
        },
        "id": "ih0lI6lzYCpa",
        "outputId": "b441c63b-e853-4d2c-b915-d473273d475f"
      },
      "source": [
        "x_anom"
      ],
      "execution_count": 8,
      "outputs": [
        {
          "output_type": "execute_result",
          "data": {
            "text/plain": [
              "array([36, 37, 38, 38, 39, 39, 40, 40, 40, 40, 41, 41, 41, 41, 41, 41, 42,\n",
              "       42, 42, 42, 42, 42, 42, 43, 43, 43, 43, 43, 43, 43, 43, 44, 44, 44,\n",
              "       44, 44, 44, 44, 44, 44, 45, 45, 45, 45, 45, 45, 45, 45, 45, 45, 46,\n",
              "       46, 46, 46, 46, 46, 46, 46, 46, 46, 47, 47, 47, 47, 47, 47, 47, 47,\n",
              "       47, 48, 48, 48, 48, 48, 48, 48, 48, 49, 49, 49, 49, 49, 49, 49, 50,\n",
              "       50, 50, 50, 50, 50, 51, 51, 51, 51, 52, 52, 53, 53, 54, 55, 60])"
            ]
          },
          "metadata": {
            "tags": []
          },
          "execution_count": 8
        }
      ]
    },
    {
      "cell_type": "markdown",
      "metadata": {
        "id": "cigc1u6dZit7"
      },
      "source": [
        "Ahora se tiene un el dato anómalo insertado artificalmente dentro del conjunto de datos, pasamos a ver de nuevo el histograma."
      ]
    },
    {
      "cell_type": "code",
      "metadata": {
        "colab": {
          "base_uri": "https://localhost:8080/",
          "height": 340
        },
        "id": "FbpBi6-zaZm2",
        "outputId": "998e53d4-bc6b-4cc7-f099-6d3f18444f7f"
      },
      "source": [
        "sns.distplot(x_anom)"
      ],
      "execution_count": 9,
      "outputs": [
        {
          "output_type": "stream",
          "text": [
            "/usr/local/lib/python3.6/dist-packages/seaborn/distributions.py:2551: FutureWarning: `distplot` is a deprecated function and will be removed in a future version. Please adapt your code to use either `displot` (a figure-level function with similar flexibility) or `histplot` (an axes-level function for histograms).\n",
            "  warnings.warn(msg, FutureWarning)\n"
          ],
          "name": "stderr"
        },
        {
          "output_type": "execute_result",
          "data": {
            "text/plain": [
              "<matplotlib.axes._subplots.AxesSubplot at 0x7f5d78295630>"
            ]
          },
          "metadata": {
            "tags": []
          },
          "execution_count": 9
        },
        {
          "output_type": "display_data",
          "data": {
            "image/png": "[encoded data removed]",
            "text/plain": [
              "<Figure size 432x288 with 1 Axes>"
            ]
          },
          "metadata": {
            "tags": [],
            "needs_background": "light"
          }
        }
      ]
    },
    {
      "cell_type": "markdown",
      "metadata": {
        "id": "gFoVbRUbLhrH"
      },
      "source": [
        "A primera vista se puede indentificar la normalidad de la distribución, y es más notorio aún cuando la muestra es grande. De cualquier manera se debe aplicar una prueba estadística para comprobar formalmente la hipótesis. En este caso vamos a aplicar Shapiro-Wilk.\n",
        "\n",
        "La significancia *a* será 0.05 o el 5 %, si nuestro p-value es mayor a *a* entonces tendremos una distribución normal."
      ]
    },
    {
      "cell_type": "markdown",
      "metadata": {
        "id": "eLvGJgeW3c_z"
      },
      "source": [
        "Normalizamos el conjunto de datos para mejores resultados al aplicar la prueba de Shapiro-Wilk."
      ]
    },
    {
      "cell_type": "code",
      "metadata": {
        "id": "bkPyIx2R3vCS"
      },
      "source": [
        "x_anom_norm = (x_anom - np.min(x_anom)) / (np.max(x_anom) - np.min(x_anom))"
      ],
      "execution_count": 10,
      "outputs": []
    },
    {
      "cell_type": "code",
      "metadata": {
        "colab": {
          "base_uri": "https://localhost:8080/"
        },
        "id": "mk-y7UKV4Sqq",
        "outputId": "d25c3ae4-65d0-4c9d-c5fa-b4322cde41b9"
      },
      "source": [
        "x_anom_norm"
      ],
      "execution_count": 11,
      "outputs": [
        {
          "output_type": "execute_result",
          "data": {
            "text/plain": [
              "array([0.        , 0.04166667, 0.08333333, 0.08333333, 0.125     ,\n",
              "       0.125     , 0.16666667, 0.16666667, 0.16666667, 0.16666667,\n",
              "       0.20833333, 0.20833333, 0.20833333, 0.20833333, 0.20833333,\n",
              "       0.20833333, 0.25      , 0.25      , 0.25      , 0.25      ,\n",
              "       0.25      , 0.25      , 0.25      , 0.29166667, 0.29166667,\n",
              "       0.29166667, 0.29166667, 0.29166667, 0.29166667, 0.29166667,\n",
              "       0.29166667, 0.33333333, 0.33333333, 0.33333333, 0.33333333,\n",
              "       0.33333333, 0.33333333, 0.33333333, 0.33333333, 0.33333333,\n",
              "       0.375     , 0.375     , 0.375     , 0.375     , 0.375     ,\n",
              "       0.375     , 0.375     , 0.375     , 0.375     , 0.375     ,\n",
              "       0.41666667, 0.41666667, 0.41666667, 0.41666667, 0.41666667,\n",
              "       0.41666667, 0.41666667, 0.41666667, 0.41666667, 0.41666667,\n",
              "       0.45833333, 0.45833333, 0.45833333, 0.45833333, 0.45833333,\n",
              "       0.45833333, 0.45833333, 0.45833333, 0.45833333, 0.5       ,\n",
              "       0.5       , 0.5       , 0.5       , 0.5       , 0.5       ,\n",
              "       0.5       , 0.5       , 0.54166667, 0.54166667, 0.54166667,\n",
              "       0.54166667, 0.54166667, 0.54166667, 0.54166667, 0.58333333,\n",
              "       0.58333333, 0.58333333, 0.58333333, 0.58333333, 0.58333333,\n",
              "       0.625     , 0.625     , 0.625     , 0.625     , 0.66666667,\n",
              "       0.66666667, 0.70833333, 0.70833333, 0.75      , 0.79166667,\n",
              "       1.        ])"
            ]
          },
          "metadata": {
            "tags": []
          },
          "execution_count": 11
        }
      ]
    },
    {
      "cell_type": "code",
      "metadata": {
        "id": "wr8QYQGT370P"
      },
      "source": [
        "shapiro_test = shapiro(x_anom_norm)"
      ],
      "execution_count": 12,
      "outputs": []
    },
    {
      "cell_type": "code",
      "metadata": {
        "id": "2eW1oU1aOKxj",
        "colab": {
          "base_uri": "https://localhost:8080/"
        },
        "outputId": "05aca9f3-2e5a-4d46-d0ee-ef0da64a64fe"
      },
      "source": [
        "shapiro_test"
      ],
      "execution_count": 13,
      "outputs": [
        {
          "output_type": "execute_result",
          "data": {
            "text/plain": [
              "(0.9875063896179199, 0.46520543098449707)"
            ]
          },
          "metadata": {
            "tags": []
          },
          "execution_count": 13
        }
      ]
    },
    {
      "cell_type": "markdown",
      "metadata": {
        "id": "FqzHJus0qqC1"
      },
      "source": [
        "Aquí se puede observar que el p-value que obtuvimos es aproximado a 0.46 lo cual implica que la hipótesis se cumple, ya que p-value es mayor que *a*. Por lo tanto nuestra distribución es normal.\n",
        "Se procede a calcular el *z score* de las observaciones. "
      ]
    },
    {
      "cell_type": "code",
      "metadata": {
        "id": "dNtbXIZX_PS9"
      },
      "source": [
        "z = np.abs(np.mean(x_anom_norm) - x_anom_norm) / np.std(x_anom_norm)"
      ],
      "execution_count": 17,
      "outputs": []
    },
    {
      "cell_type": "code",
      "metadata": {
        "id": "yXryyZFZ_hju",
        "colab": {
          "base_uri": "https://localhost:8080/",
          "height": 281
        },
        "outputId": "71779e8c-4263-40fd-8cfa-f2f6d3c86949"
      },
      "source": [
        "plt.scatter(range(len(z)), z)\n",
        "plt.axhline(np.mean(z), color='red', linewidth=2)\n",
        "plt.title(\"z score\")\n",
        "plt.show()"
      ],
      "execution_count": 18,
      "outputs": [
        {
          "output_type": "display_data",
          "data": {
            "image/png": "[encoded data removed]",
            "text/plain": [
              "<Figure size 432x288 with 1 Axes>"
            ]
          },
          "metadata": {
            "tags": [],
            "needs_background": "light"
          }
        }
      ]
    },
    {
      "cell_type": "markdown",
      "metadata": {
        "id": "-zae-2XLLiTq"
      },
      "source": [
        "Como se puede observar, el dato que fue insertado de manera artificial se encuentra lejos de las demás observaciones, la media del z score está representada por la línea roja. Hay que recordar que se ingresó el dato de manera manual para ser una anomalía dentro de nuestra distribución.\n",
        "\n",
        "Para definir el umbral deseado aquí es el momento perfecto para estipularlo, ya que observando la gráfica es posible determinar un divisor para distinguir anomalías de las que no lo son.\n",
        "\n",
        "En este caso en particular, con un valor de 3.5 o 4 está bien, ya que tampoco queremos hacer un sobreajuste. Es decir, todo dato que sobrepase el valor z de 3 o 3.5 será catalogado como anomalía.\n",
        "\n",
        "Para un ejercicio de detección de novedades, es decir, cuando se agregan datos nuevos a la variable única *x*, se calcularía el *z score* del nuevo dato y si es menor al umbral estipulado, se agrega a la variable *x* sino es rechazado. Cabe señalar que para un ejercicio de detección de novedades es sumamente barato el costo computacional para generarlo, ya que se conoce el valor de la media y de la desviación estándar con anterioridad.\n",
        "\n",
        "Ya para terminar el proceso de detección de anomalías solo quedaría sesgar el valor anómalo y examinarlo para develar toda la información que nos puede brindar."
      ]
    },
    {
      "cell_type": "code",
      "metadata": {
        "id": "kgvxYzR5WkQO"
      },
      "source": [
        ""
      ],
      "execution_count": 15,
      "outputs": []
    }
  ]
}