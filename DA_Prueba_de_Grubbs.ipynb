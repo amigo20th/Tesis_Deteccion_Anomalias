{
  "nbformat": 4,
  "nbformat_minor": 0,
  "metadata": {
    "colab": {
      "name": "DA_Prueba_de_Grubbs.ipynb",
      "provenance": []
    },
    "kernelspec": {
      "name": "python3",
      "display_name": "Python 3"
    }
  },
  "cells": [
    {
      "cell_type": "markdown",
      "metadata": {
        "id": "A7aubB7AEA0q"
      },
      "source": [
        "<h1>Detección de anomalías por Prueba de Grubbs</h1>\n",
        "El presente código corresponde a la detección de anomalías por medio de la Prueba de Grubbs.\n",
        "Lo que busca este código es brindar una guía o tutorial para las personas que mantegan dudas respecto a cómo es la aplicación del método.\n",
        " \n",
        "Este código está basado en la tesis:\n",
        "<h1>AQUÍ VAN LOS DATOS DE LA TESIS, SOLO QUE FALTA VER EL NOMBRE FINAL DE ESTA</h1>"
      ]
    },
    {
      "cell_type": "markdown",
      "metadata": {
        "id": "3mierZsfAu76"
      },
      "source": [
        "<H2>El conjunto de datos</H2>\n",
        "El conjunto de datos utilizado para el siguiente análisis fue sacado de la siguiente publicación:\n",
        "\n",
        "\n",
        "*  Sokal, R. R., & Hunter, P. E. (1955). A Morphometric Analysis of Ddt-Resistant and Non-Resistant House Fly Strains1, 2. Annals of the Entomological Society of America, 48(6), 499–507. https://doi.org/10.1093/aesa/48.6.499\n",
        "\n",
        "El conjunto de datos es una muestra de una población de moscas domésticas a las cuales se les midieron sus alas y se registraron.\n",
        "Las mediciones tomadas para la anterior investigación representan una distribución Gaussina, estos datos pertenecen al campo de la biometría.\n",
        "\n",
        "El conjunto de datos se puede adquirir libremente en la siguiente liga:\n",
        "\n",
        "\n",
        "*   https://seattlecentral.edu/qelp/sets/057/057.html#About\n",
        "\n",
        "\n",
        "\n",
        "\n",
        "\n",
        "‌"
      ]
    },
    {
      "cell_type": "code",
      "metadata": {
        "id": "pGr1sresFe1K"
      },
      "source": [
        "import numpy as np\n",
        "import matplotlib.pyplot as plt\n",
        "import seaborn as sns\n",
        "import pandas as pd\n",
        "from scipy.stats import shapiro"
      ],
      "execution_count": null,
      "outputs": []
    },
    {
      "cell_type": "code",
      "metadata": {
        "id": "wYuZgLpVFFCT"
      },
      "source": [
        "df = pd.read_csv(\"/content/sample_data/dataset_ala_mosca_domestica.csv\", sep=';',\n",
        "                 names = ['long_ala'])"
      ],
      "execution_count": null,
      "outputs": []
    },
    {
      "cell_type": "code",
      "metadata": {
        "colab": {
          "base_uri": "https://localhost:8080/",
          "height": 424
        },
        "id": "hBm5dweeFWJ2",
        "outputId": "dd1d67db-c15b-4499-d408-fb1386e14c5c"
      },
      "source": [
        "df"
      ],
      "execution_count": null,
      "outputs": [
        {
          "output_type": "execute_result",
          "data": {
            "text/html": [
              "<div>\n",
              "<style scoped>\n",
              "    .dataframe tbody tr th:only-of-type {\n",
              "        vertical-align: middle;\n",
              "    }\n",
              "\n",
              "    .dataframe tbody tr th {\n",
              "        vertical-align: top;\n",
              "    }\n",
              "\n",
              "    .dataframe thead th {\n",
              "        text-align: right;\n",
              "    }\n",
              "</style>\n",
              "<table border=\"1\" class=\"dataframe\">\n",
              "  <thead>\n",
              "    <tr style=\"text-align: right;\">\n",
              "      <th></th>\n",
              "      <th>long_ala</th>\n",
              "    </tr>\n",
              "  </thead>\n",
              "  <tbody>\n",
              "    <tr>\n",
              "      <th>0</th>\n",
              "      <td>36</td>\n",
              "    </tr>\n",
              "    <tr>\n",
              "      <th>1</th>\n",
              "      <td>37</td>\n",
              "    </tr>\n",
              "    <tr>\n",
              "      <th>2</th>\n",
              "      <td>38</td>\n",
              "    </tr>\n",
              "    <tr>\n",
              "      <th>3</th>\n",
              "      <td>38</td>\n",
              "    </tr>\n",
              "    <tr>\n",
              "      <th>4</th>\n",
              "      <td>39</td>\n",
              "    </tr>\n",
              "    <tr>\n",
              "      <th>...</th>\n",
              "      <td>...</td>\n",
              "    </tr>\n",
              "    <tr>\n",
              "      <th>95</th>\n",
              "      <td>52</td>\n",
              "    </tr>\n",
              "    <tr>\n",
              "      <th>96</th>\n",
              "      <td>53</td>\n",
              "    </tr>\n",
              "    <tr>\n",
              "      <th>97</th>\n",
              "      <td>53</td>\n",
              "    </tr>\n",
              "    <tr>\n",
              "      <th>98</th>\n",
              "      <td>54</td>\n",
              "    </tr>\n",
              "    <tr>\n",
              "      <th>99</th>\n",
              "      <td>55</td>\n",
              "    </tr>\n",
              "  </tbody>\n",
              "</table>\n",
              "<p>100 rows × 1 columns</p>\n",
              "</div>"
            ],
            "text/plain": [
              "    long_ala\n",
              "0         36\n",
              "1         37\n",
              "2         38\n",
              "3         38\n",
              "4         39\n",
              "..       ...\n",
              "95        52\n",
              "96        53\n",
              "97        53\n",
              "98        54\n",
              "99        55\n",
              "\n",
              "[100 rows x 1 columns]"
            ]
          },
          "metadata": {
            "tags": []
          },
          "execution_count": 3
        }
      ]
    },
    {
      "cell_type": "markdown",
      "metadata": {
        "id": "gf6AvM9iGdVn"
      },
      "source": [
        "Se puede observar que la muestra crea una perfecta campana de Gauss, por ende vamos a insertar un dato artificalmente para juegue el rol de anomalía y así crear un ejemplo de juguete."
      ]
    },
    {
      "cell_type": "code",
      "metadata": {
        "colab": {
          "base_uri": "https://localhost:8080/",
          "height": 340
        },
        "id": "lObA9DYzGQ9Q",
        "outputId": "9dff0e1c-d74d-4ab0-fe6e-cf6153376eb7"
      },
      "source": [
        "sns.distplot(df)"
      ],
      "execution_count": null,
      "outputs": [
        {
          "output_type": "stream",
          "text": [
            "/usr/local/lib/python3.7/dist-packages/seaborn/distributions.py:2557: FutureWarning: `distplot` is a deprecated function and will be removed in a future version. Please adapt your code to use either `displot` (a figure-level function with similar flexibility) or `histplot` (an axes-level function for histograms).\n",
            "  warnings.warn(msg, FutureWarning)\n"
          ],
          "name": "stderr"
        },
        {
          "output_type": "execute_result",
          "data": {
            "text/plain": [
              "<matplotlib.axes._subplots.AxesSubplot at 0x7ff20c568d90>"
            ]
          },
          "metadata": {
            "tags": []
          },
          "execution_count": 4
        },
        {
          "output_type": "display_data",
          "data": {
            "image/png": "[encoded data removed]",
            "text/plain": [
              "<Figure size 432x288 with 1 Axes>"
            ]
          },
          "metadata": {
            "tags": [],
            "needs_background": "light"
          }
        }
      ]
    },
    {
      "cell_type": "code",
      "metadata": {
        "id": "G-xXH3fXG2-G"
      },
      "source": [
        "x = df['long_ala'].values"
      ],
      "execution_count": null,
      "outputs": []
    },
    {
      "cell_type": "code",
      "metadata": {
        "colab": {
          "base_uri": "https://localhost:8080/"
        },
        "id": "PHBby2RBXpCN",
        "outputId": "55673e0c-4e57-442a-e549-286f95788bb1"
      },
      "source": [
        "x"
      ],
      "execution_count": null,
      "outputs": [
        {
          "output_type": "execute_result",
          "data": {
            "text/plain": [
              "array([36, 37, 38, 38, 39, 39, 40, 40, 40, 40, 41, 41, 41, 41, 41, 41, 42,\n",
              "       42, 42, 42, 42, 42, 42, 43, 43, 43, 43, 43, 43, 43, 43, 44, 44, 44,\n",
              "       44, 44, 44, 44, 44, 44, 45, 45, 45, 45, 45, 45, 45, 45, 45, 45, 46,\n",
              "       46, 46, 46, 46, 46, 46, 46, 46, 46, 47, 47, 47, 47, 47, 47, 47, 47,\n",
              "       47, 48, 48, 48, 48, 48, 48, 48, 48, 49, 49, 49, 49, 49, 49, 49, 50,\n",
              "       50, 50, 50, 50, 50, 51, 51, 51, 51, 52, 52, 53, 53, 54, 55])"
            ]
          },
          "metadata": {
            "tags": []
          },
          "execution_count": 6
        }
      ]
    },
    {
      "cell_type": "markdown",
      "metadata": {
        "id": "Uo-u8_Ij_azm"
      },
      "source": [
        "Añadimos artificialmente un dato que se anómalo en nuestra muestra."
      ]
    },
    {
      "cell_type": "code",
      "metadata": {
        "id": "p_Lr7LVaX1v7"
      },
      "source": [
        "x_anom = np.append(x, [62], axis=0)"
      ],
      "execution_count": null,
      "outputs": []
    },
    {
      "cell_type": "code",
      "metadata": {
        "colab": {
          "base_uri": "https://localhost:8080/"
        },
        "id": "ih0lI6lzYCpa",
        "outputId": "5ad2bfd5-b516-411e-f01e-3932f28729cd"
      },
      "source": [
        "x_anom"
      ],
      "execution_count": null,
      "outputs": [
        {
          "output_type": "execute_result",
          "data": {
            "text/plain": [
              "array([36, 37, 38, 38, 39, 39, 40, 40, 40, 40, 41, 41, 41, 41, 41, 41, 42,\n",
              "       42, 42, 42, 42, 42, 42, 43, 43, 43, 43, 43, 43, 43, 43, 44, 44, 44,\n",
              "       44, 44, 44, 44, 44, 44, 45, 45, 45, 45, 45, 45, 45, 45, 45, 45, 46,\n",
              "       46, 46, 46, 46, 46, 46, 46, 46, 46, 47, 47, 47, 47, 47, 47, 47, 47,\n",
              "       47, 48, 48, 48, 48, 48, 48, 48, 48, 49, 49, 49, 49, 49, 49, 49, 50,\n",
              "       50, 50, 50, 50, 50, 51, 51, 51, 51, 52, 52, 53, 53, 54, 55, 62])"
            ]
          },
          "metadata": {
            "tags": []
          },
          "execution_count": 8
        }
      ]
    },
    {
      "cell_type": "markdown",
      "metadata": {
        "id": "cigc1u6dZit7"
      },
      "source": [
        "Ahora se tiene un el dato anómalo insertado artificalmente dentro del conjunto de datos, pasamos a ver de nuevo el histograma."
      ]
    },
    {
      "cell_type": "code",
      "metadata": {
        "colab": {
          "base_uri": "https://localhost:8080/",
          "height": 340
        },
        "id": "FbpBi6-zaZm2",
        "outputId": "1e490bb0-4335-4b4b-8405-ae2837dcbfa7"
      },
      "source": [
        "sns.distplot(x_anom)"
      ],
      "execution_count": null,
      "outputs": [
        {
          "output_type": "stream",
          "text": [
            "/usr/local/lib/python3.7/dist-packages/seaborn/distributions.py:2557: FutureWarning: `distplot` is a deprecated function and will be removed in a future version. Please adapt your code to use either `displot` (a figure-level function with similar flexibility) or `histplot` (an axes-level function for histograms).\n",
            "  warnings.warn(msg, FutureWarning)\n"
          ],
          "name": "stderr"
        },
        {
          "output_type": "execute_result",
          "data": {
            "text/plain": [
              "<matplotlib.axes._subplots.AxesSubplot at 0x7ff20a18b8d0>"
            ]
          },
          "metadata": {
            "tags": []
          },
          "execution_count": 9
        },
        {
          "output_type": "display_data",
          "data": {
            "image/png": "[encoded data removed]",
            "text/plain": [
              "<Figure size 432x288 with 1 Axes>"
            ]
          },
          "metadata": {
            "tags": [],
            "needs_background": "light"
          }
        }
      ]
    },
    {
      "cell_type": "markdown",
      "metadata": {
        "id": "gFoVbRUbLhrH"
      },
      "source": [
        "A primera vista se puede indentificar la normalidad de la distribución, y es más notorio aún cuando la muestra es grande. De cualquier manera se debe aplicar una prueba estadística para comprobar formalmente la hipótesis. En este caso vamos a aplicar Shapiro-Wilk.\n",
        "\n",
        "La significancia *a* será 0.05 o el 5 %, si nuestro p-value es mayor a *a* entonces tendremos una distribución normal."
      ]
    },
    {
      "cell_type": "markdown",
      "metadata": {
        "id": "eLvGJgeW3c_z"
      },
      "source": [
        "Normalizamos el conjunto de datos para mejores resultados al aplicar la prueba de Shapiro-Wilk."
      ]
    },
    {
      "cell_type": "code",
      "metadata": {
        "id": "wr8QYQGT370P"
      },
      "source": [
        "shapiro_test = shapiro(x_anom)"
      ],
      "execution_count": null,
      "outputs": []
    },
    {
      "cell_type": "code",
      "metadata": {
        "id": "2eW1oU1aOKxj",
        "colab": {
          "base_uri": "https://localhost:8080/"
        },
        "outputId": "afc332d3-201f-4831-b702-5a0dbc7eeb3e"
      },
      "source": [
        "shapiro_test"
      ],
      "execution_count": null,
      "outputs": [
        {
          "output_type": "execute_result",
          "data": {
            "text/plain": [
              "(0.978909432888031, 0.10573770105838776)"
            ]
          },
          "metadata": {
            "tags": []
          },
          "execution_count": 11
        }
      ]
    },
    {
      "cell_type": "markdown",
      "metadata": {
        "id": "FqzHJus0qqC1"
      },
      "source": [
        "Aquí se puede observar que el p-value que obtuvimos es aproximado a 0.46 lo cual implica que la hipótesis se cumple, ya que p-value es mayor que *a*. Por lo tanto nuestra distribución es normal.\n",
        "Se procede a calcular el *z score* de las observaciones. "
      ]
    },
    {
      "cell_type": "code",
      "metadata": {
        "id": "dNtbXIZX_PS9"
      },
      "source": [
        "z = np.abs(np.mean(x_anom) - x_anom) / np.std(x_anom)"
      ],
      "execution_count": null,
      "outputs": []
    },
    {
      "cell_type": "code",
      "metadata": {
        "id": "yXryyZFZ_hju",
        "colab": {
          "base_uri": "https://localhost:8080/",
          "height": 281
        },
        "outputId": "3c28d4ad-1267-4bfa-d4d1-009e7dda5ca1"
      },
      "source": [
        "plt.scatter(range(len(z)), z)\n",
        "plt.axhline(np.mean(z), color='green', linewidth=2)\n",
        "plt.title(\"z-score\")\n",
        "plt.show()"
      ],
      "execution_count": null,
      "outputs": [
        {
          "output_type": "display_data",
          "data": {
            "image/png": "[encoded data removed]",
            "text/plain": [
              "<Figure size 432x288 with 1 Axes>"
            ]
          },
          "metadata": {
            "tags": [],
            "needs_background": "light"
          }
        }
      ]
    },
    {
      "cell_type": "markdown",
      "metadata": {
        "id": "-zae-2XLLiTq"
      },
      "source": [
        "Como se puede observar, el dato que fue insertado de manera artificial se encuentra lejos de las demás observaciones, la media del z score está representada por la línea roja. Hay que recordar que se ingresó el dato de manera manual para ser una anomalía dentro de nuestra distribución.\n",
        "\n",
        "Para definir el umbral deseado aquí es el momento perfecto para estipularlo, ya que observando la gráfica es posible determinar un divisor para distinguir anomalías de las que no lo son.\n",
        "\n",
        "En este caso en particular, con un valor de 3.5 está bien, ya que tampoco queremos hacer un sobreajuste. Es decir, todo dato que sobrepase el valor z de 3.5 será catalogado como anomalía.\n",
        "\n",
        "Para un ejercicio de detección de novedades, es decir, cuando se agregan datos nuevos a la variable única *x*, se calcularía el *z score* del nuevo dato y si es menor al umbral estipulado, se agrega a la variable *x* sino es rechazado. Cabe señalar que para un ejercicio de detección de novedades es sumamente barato el costo computacional para generarlo, ya que se conoce el valor de la media y de la desviación estándar con anterioridad.\n",
        "\n",
        "Ya para terminar el proceso de detección de anomalías solo quedaría sesgar el valor anómalo y examinarlo para develar toda la información que nos puede brindar."
      ]
    },
    {
      "cell_type": "code",
      "metadata": {
        "id": "kgvxYzR5WkQO",
        "colab": {
          "base_uri": "https://localhost:8080/",
          "height": 281
        },
        "outputId": "942452b6-e588-46a7-c659-c5daf571c8f8"
      },
      "source": [
        "plt.scatter(range(len(z)), z)\n",
        "plt.axhline(np.mean(z), color='green', linewidth=2)\n",
        "\n",
        "plt.axhline(3.5, color='orange', linewidth=2)\n",
        "plt.title(\"z-score\")\n",
        "for cont, z_score in enumerate(z):\n",
        "    if z_score>3.5:\n",
        "        plt.scatter(cont, z_score, color='red', edgecolors='black')\n",
        "        plt.text(cont+1.5, z_score, \"ID={}\".format(cont), va='center')\n",
        "plt.show()"
      ],
      "execution_count": null,
      "outputs": [
        {
          "output_type": "display_data",
          "data": {
            "image/png": "[encoded data removed]",
            "text/plain": [
              "<Figure size 432x288 with 1 Axes>"
            ]
          },
          "metadata": {
            "tags": [],
            "needs_background": "light"
          }
        }
      ]
    },
    {
      "cell_type": "code",
      "metadata": {
        "id": "OoRtH8Jps9Gw"
      },
      "source": [
        ""
      ],
      "execution_count": null,
      "outputs": []
    }
  ]
}