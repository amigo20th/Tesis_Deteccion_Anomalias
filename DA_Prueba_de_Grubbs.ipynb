{
  "nbformat": 4,
  "nbformat_minor": 0,
  "metadata": {
    "colab": {
      "name": "DA_Prueba_de_Grubbs.ipynb",
      "provenance": []
    },
    "kernelspec": {
      "name": "python3",
      "display_name": "Python 3"
    }
  },
  "cells": [
    {
      "cell_type": "markdown",
      "metadata": {
        "id": "A7aubB7AEA0q",
        "colab_type": "text"
      },
      "source": [
        "<h1>Detección de anomalías por Prueba de Grubbs</h1>\n",
        "El presente código corresponde a la detección de anomalías por medio de la Prueba de Grubbs.\n",
        "Lo que busca ser este código es brindar una guía o tutorial para las personas que mantegan dudas respecto a cómo es la aplicación del método.\n",
        " \n",
        "Este código está basado en la tesis:\n",
        "<h1>AQUÍ VAN LOS DATOS DE LA TESIS, SOLO QUE FALTA VER EL NOMBRE FINAL DE ESTA</h1>"
      ]
    },
    {
      "cell_type": "code",
      "metadata": {
        "id": "pGr1sresFe1K",
        "colab_type": "code",
        "colab": {}
      },
      "source": [
        "import numpy as np\n",
        "import matplotlib.pyplot as plt\n",
        "import seaborn as sns\n",
        "from scipy.stats import kstest"
      ],
      "execution_count": 33,
      "outputs": []
    },
    {
      "cell_type": "code",
      "metadata": {
        "id": "j4GQMJ4LGHoN",
        "colab_type": "code",
        "colab": {
          "base_uri": "https://localhost:8080/",
          "height": 34
        },
        "outputId": "af843564-13f5-43df-ba91-fbde68c745da"
      },
      "source": [
        "tam_muestra = 99\n",
        "x = np.random.normal(size=tam_muestra)\n",
        "print(len(x))"
      ],
      "execution_count": 37,
      "outputs": [
        {
          "output_type": "stream",
          "text": [
            "99\n"
          ],
          "name": "stdout"
        }
      ]
    },
    {
      "cell_type": "markdown",
      "metadata": {
        "id": "YdO6L34RIpIX",
        "colab_type": "text"
      },
      "source": [
        "Se va a insertar artificialmente un dato el cual jugará el papel de una anomalía."
      ]
    },
    {
      "cell_type": "code",
      "metadata": {
        "id": "8qRyEj6VIoRr",
        "colab_type": "code",
        "colab": {
          "base_uri": "https://localhost:8080/",
          "height": 34
        },
        "outputId": "0a61cab7-b805-4a76-ba3f-69b8e0d27cdb"
      },
      "source": [
        "x = np.append(x, [10], axis=0)\n",
        "print(\"El tamaño de la muestra es de\",len(x2))"
      ],
      "execution_count": 42,
      "outputs": [
        {
          "output_type": "stream",
          "text": [
            "El tamaño de la muestra es de 100\n"
          ],
          "name": "stdout"
        }
      ]
    },
    {
      "cell_type": "code",
      "metadata": {
        "id": "elKP8pqSGOq7",
        "colab_type": "code",
        "colab": {}
      },
      "source": [
        "bins = np.linspace(min(x), max(x), num=int(np.sqrt(tam_muestra)))"
      ],
      "execution_count": 43,
      "outputs": []
    },
    {
      "cell_type": "code",
      "metadata": {
        "id": "ghFOBYXBIj-L",
        "colab_type": "code",
        "colab": {
          "base_uri": "https://localhost:8080/",
          "height": 265
        },
        "outputId": "8754a734-53fe-4513-ea6f-c1cc250fe977"
      },
      "source": [
        "_ = sns.distplot(x, bins=bins)"
      ],
      "execution_count": 44,
      "outputs": [
        {
          "output_type": "display_data",
          "data": {
            "image/png": "[encoded data removed]",
            "text/plain": [
              "<Figure size 432x288 with 1 Axes>"
            ]
          },
          "metadata": {
            "tags": [],
            "needs_background": "light"
          }
        }
      ]
    },
    {
      "cell_type": "markdown",
      "metadata": {
        "id": "gFoVbRUbLhrH",
        "colab_type": "text"
      },
      "source": [
        "A primera vista se puede indentificar la normalidad de la distribución, y es más notorio aún cuando la muestra es muy grande. De cualquier manera se debe aplicar una prueba estadística para comprobar formalmente la hipótesis. En este caso vamos a aplicar Kolmogorov–Smirnov para comprobar la distribución normal de la muestra puesto que nuestro tamaño de muestra es 100.\n",
        "\n",
        "La significancia *a* será 0.05 o el 5 %, si nuestro p-value es mayor a *a* entonces tendremos una distribución normal."
      ]
    },
    {
      "cell_type": "code",
      "metadata": {
        "id": "B4IbOJgBL_v_",
        "colab_type": "code",
        "colab": {}
      },
      "source": [
        "prueba_KS = kstest(x, 'norm')"
      ],
      "execution_count": 45,
      "outputs": []
    },
    {
      "cell_type": "code",
      "metadata": {
        "id": "2eW1oU1aOKxj",
        "colab_type": "code",
        "colab": {
          "base_uri": "https://localhost:8080/",
          "height": 34
        },
        "outputId": "58bdf3df-8391-4204-c237-c166f61cb154"
      },
      "source": [
        "prueba_KS.pvalue"
      ],
      "execution_count": 46,
      "outputs": [
        {
          "output_type": "execute_result",
          "data": {
            "text/plain": [
              "0.8183489846063573"
            ]
          },
          "metadata": {
            "tags": []
          },
          "execution_count": 46
        }
      ]
    },
    {
      "cell_type": "markdown",
      "metadata": {
        "id": "FqzHJus0qqC1",
        "colab_type": "text"
      },
      "source": [
        "Aquí se puede observar que el p-value que obtuvimos es aproximado a 0.97 lo cual implica que la hipótesis se cumple, ya que p-value es mayor que *a*. Por lo tanto nuestra distribución es normal.\n",
        "Se procede a calcular el *z score* de las observaciones. "
      ]
    },
    {
      "cell_type": "code",
      "metadata": {
        "id": "dNtbXIZX_PS9",
        "colab_type": "code",
        "colab": {}
      },
      "source": [
        "z = np.abs(np.mean(x) - x) / np.std(x)"
      ],
      "execution_count": 47,
      "outputs": []
    },
    {
      "cell_type": "code",
      "metadata": {
        "id": "yXryyZFZ_hju",
        "colab_type": "code",
        "colab": {
          "base_uri": "https://localhost:8080/",
          "height": 281
        },
        "outputId": "06a38cf0-ab09-4077-82fa-4c4bd23af010"
      },
      "source": [
        "plt.scatter(range(len(z)), z)\n",
        "plt.axhline(np.mean(z), color='red', linewidth=2)\n",
        "plt.title(\"z score\")\n",
        "plt.show()"
      ],
      "execution_count": 53,
      "outputs": [
        {
          "output_type": "display_data",
          "data": {
            "image/png": "[encoded data removed]",
            "text/plain": [
              "<Figure size 432x288 with 1 Axes>"
            ]
          },
          "metadata": {
            "tags": [],
            "needs_background": "light"
          }
        }
      ]
    },
    {
      "cell_type": "markdown",
      "metadata": {
        "id": "-zae-2XLLiTq",
        "colab_type": "text"
      },
      "source": [
        "Como se puede observar, el dato que fue insertado de manera artificial ese encuentra lejos de las demás observaciones, la media del z score está representada por la línea roja. Hay que recordar que se ingresó el dato de manera manual para ser una anomalía dentro de nuestra distribución.\n",
        "\n",
        "Para definir el umbral deseado aquí es el momento perfecto para estipularlo, ya que observando la gráfica es posible determinar un divisor para distinguir anomalías de las que no lo son.\n",
        "\n",
        "En este caso en particular, con un valor de 3.5 o 4 está bien, ya que tampoco queremos hacer un sobreajuste. Es decir, todo dato que sobrepase el valor z de 3.5 o 4 será catalogado como anomalía.\n",
        "\n",
        "Para un ejercicio de detección de novedades, es decir, cuando se agregan datos nuevos a la variable única *x*, se calcularía el *z score* del nuevo dato y si es menor al umbral estipulado, se agrega a la variable *x* sino es rechazado. Cabe señalar que para un ejercicio de detección de novedades es sumamente barato el costo computacional para generarlo, ya que se conoce el valor de la media y de la desviación estándar con anterioridad."
      ]
    },
    {
      "cell_type": "code",
      "metadata": {
        "id": "jrkGklq1MFtz",
        "colab_type": "code",
        "colab": {}
      },
      "source": [
        ""
      ],
      "execution_count": null,
      "outputs": []
    }
  ]
}