{
  "nbformat": 4,
  "nbformat_minor": 0,
  "metadata": {
    "colab": {
      "name": "DA_Diagrama_de_cajas",
      "provenance": []
    },
    "kernelspec": {
      "name": "python3",
      "display_name": "Python 3"
    }
  },
  "cells": [
    {
      "cell_type": "markdown",
      "metadata": {
        "id": "dKZtVmXRPM_R"
      },
      "source": [
        "# Detección de anomalías usando el diagrama de cajas y bigotes."
      ]
    },
    {
      "cell_type": "markdown",
      "metadata": {
        "id": "C1ES7BpRPn0o"
      },
      "source": [
        "A continuación, se procede a realizar un ejemplo para la creación de un diagrama de cajas y bigotes aplicado en Python con la librería matplotlib.\n",
        "\n",
        "El conjunto de datos a utilizar en este ejemplo es referente automóviles del año de 1985, el cual está diseñado para determinar el costo de su seguro dependiendo de sus características, este conjunto de datos fue tomado de la página UCI Machine Learning Repository. Para el ejemplo solamente se tendrá contemplada la variable de anchura que tienen los automóviles, ya que está variable es cuantitativa y presenta unas cuantas anomalías queque resultará interesante analizar.\n",
        "\n",
        "La Liga al conjunto de datos utilizado es la siguiente: \n",
        "https://archive.ics.uci.edu/ml/datasets/automobile\n",
        " "
      ]
    },
    {
      "cell_type": "code",
      "metadata": {
        "id": "AXn17bPhPP7o"
      },
      "source": [
        "import pandas as pd\n",
        "import matplotlib.pyplot as plt\n",
        "import numpy as np"
      ],
      "execution_count": 1,
      "outputs": []
    },
    {
      "cell_type": "code",
      "metadata": {
        "id": "hBX5yz2lnphv"
      },
      "source": [
        "df = pd.read_csv(\"/content/sample_data/imports-85_recien.data\", sep=',', names=['symboling', 'normalized-losses', 'make', \n",
        "                                                                       'fuel-type', 'aspiration', 'num-of-doors', \n",
        "                                                                       'body-style', 'drive-wheels', 'engine-location', \n",
        "                                                                       'wheel-base', 'length', 'width', 'height', \n",
        "                                                                       'curb-weight', 'engine-type', 'num-of-cylinders', \n",
        "                                                                       'engine-size', 'fuel-system', 'bore', 'stroke', \n",
        "                                                                       'compression-ratio', 'horsepower', 'peak-rpm', \n",
        "                                                                       'city-mpg', 'highway-mpg', 'price' ])"
      ],
      "execution_count": 2,
      "outputs": []
    },
    {
      "cell_type": "code",
      "metadata": {
        "colab": {
          "base_uri": "https://localhost:8080/",
          "height": 530
        },
        "id": "bF7_jkmnpX3y",
        "outputId": "2ed3d414-73a0-4fd6-ac06-956be1b05dee"
      },
      "source": [
        "df"
      ],
      "execution_count": 3,
      "outputs": [
        {
          "output_type": "execute_result",
          "data": {
            "text/html": [
              "<div>\n",
              "<style scoped>\n",
              "    .dataframe tbody tr th:only-of-type {\n",
              "        vertical-align: middle;\n",
              "    }\n",
              "\n",
              "    .dataframe tbody tr th {\n",
              "        vertical-align: top;\n",
              "    }\n",
              "\n",
              "    .dataframe thead th {\n",
              "        text-align: right;\n",
              "    }\n",
              "</style>\n",
              "<table border=\"1\" class=\"dataframe\">\n",
              "  <thead>\n",
              "    <tr style=\"text-align: right;\">\n",
              "      <th></th>\n",
              "      <th>symboling</th>\n",
              "      <th>normalized-losses</th>\n",
              "      <th>make</th>\n",
              "      <th>fuel-type</th>\n",
              "      <th>aspiration</th>\n",
              "      <th>num-of-doors</th>\n",
              "      <th>body-style</th>\n",
              "      <th>drive-wheels</th>\n",
              "      <th>engine-location</th>\n",
              "      <th>wheel-base</th>\n",
              "      <th>length</th>\n",
              "      <th>width</th>\n",
              "      <th>height</th>\n",
              "      <th>curb-weight</th>\n",
              "      <th>engine-type</th>\n",
              "      <th>num-of-cylinders</th>\n",
              "      <th>engine-size</th>\n",
              "      <th>fuel-system</th>\n",
              "      <th>bore</th>\n",
              "      <th>stroke</th>\n",
              "      <th>compression-ratio</th>\n",
              "      <th>horsepower</th>\n",
              "      <th>peak-rpm</th>\n",
              "      <th>city-mpg</th>\n",
              "      <th>highway-mpg</th>\n",
              "      <th>price</th>\n",
              "    </tr>\n",
              "  </thead>\n",
              "  <tbody>\n",
              "    <tr>\n",
              "      <th>0</th>\n",
              "      <td>3</td>\n",
              "      <td>?</td>\n",
              "      <td>alfa-romero</td>\n",
              "      <td>gas</td>\n",
              "      <td>std</td>\n",
              "      <td>two</td>\n",
              "      <td>convertible</td>\n",
              "      <td>rwd</td>\n",
              "      <td>front</td>\n",
              "      <td>88.6</td>\n",
              "      <td>168.8</td>\n",
              "      <td>64.1</td>\n",
              "      <td>48.8</td>\n",
              "      <td>2548</td>\n",
              "      <td>dohc</td>\n",
              "      <td>four</td>\n",
              "      <td>130</td>\n",
              "      <td>mpfi</td>\n",
              "      <td>3.47</td>\n",
              "      <td>2.68</td>\n",
              "      <td>9.0</td>\n",
              "      <td>111</td>\n",
              "      <td>5000</td>\n",
              "      <td>21</td>\n",
              "      <td>27</td>\n",
              "      <td>13495</td>\n",
              "    </tr>\n",
              "    <tr>\n",
              "      <th>1</th>\n",
              "      <td>3</td>\n",
              "      <td>?</td>\n",
              "      <td>alfa-romero</td>\n",
              "      <td>gas</td>\n",
              "      <td>std</td>\n",
              "      <td>two</td>\n",
              "      <td>convertible</td>\n",
              "      <td>rwd</td>\n",
              "      <td>front</td>\n",
              "      <td>88.6</td>\n",
              "      <td>168.8</td>\n",
              "      <td>64.1</td>\n",
              "      <td>48.8</td>\n",
              "      <td>2548</td>\n",
              "      <td>dohc</td>\n",
              "      <td>four</td>\n",
              "      <td>130</td>\n",
              "      <td>mpfi</td>\n",
              "      <td>3.47</td>\n",
              "      <td>2.68</td>\n",
              "      <td>9.0</td>\n",
              "      <td>111</td>\n",
              "      <td>5000</td>\n",
              "      <td>21</td>\n",
              "      <td>27</td>\n",
              "      <td>16500</td>\n",
              "    </tr>\n",
              "    <tr>\n",
              "      <th>2</th>\n",
              "      <td>1</td>\n",
              "      <td>?</td>\n",
              "      <td>alfa-romero</td>\n",
              "      <td>gas</td>\n",
              "      <td>std</td>\n",
              "      <td>two</td>\n",
              "      <td>hatchback</td>\n",
              "      <td>rwd</td>\n",
              "      <td>front</td>\n",
              "      <td>94.5</td>\n",
              "      <td>171.2</td>\n",
              "      <td>65.5</td>\n",
              "      <td>52.4</td>\n",
              "      <td>2823</td>\n",
              "      <td>ohcv</td>\n",
              "      <td>six</td>\n",
              "      <td>152</td>\n",
              "      <td>mpfi</td>\n",
              "      <td>2.68</td>\n",
              "      <td>3.47</td>\n",
              "      <td>9.0</td>\n",
              "      <td>154</td>\n",
              "      <td>5000</td>\n",
              "      <td>19</td>\n",
              "      <td>26</td>\n",
              "      <td>16500</td>\n",
              "    </tr>\n",
              "    <tr>\n",
              "      <th>3</th>\n",
              "      <td>2</td>\n",
              "      <td>164</td>\n",
              "      <td>audi</td>\n",
              "      <td>gas</td>\n",
              "      <td>std</td>\n",
              "      <td>four</td>\n",
              "      <td>sedan</td>\n",
              "      <td>fwd</td>\n",
              "      <td>front</td>\n",
              "      <td>99.8</td>\n",
              "      <td>176.6</td>\n",
              "      <td>66.2</td>\n",
              "      <td>54.3</td>\n",
              "      <td>2337</td>\n",
              "      <td>ohc</td>\n",
              "      <td>four</td>\n",
              "      <td>109</td>\n",
              "      <td>mpfi</td>\n",
              "      <td>3.19</td>\n",
              "      <td>3.40</td>\n",
              "      <td>10.0</td>\n",
              "      <td>102</td>\n",
              "      <td>5500</td>\n",
              "      <td>24</td>\n",
              "      <td>30</td>\n",
              "      <td>13950</td>\n",
              "    </tr>\n",
              "    <tr>\n",
              "      <th>4</th>\n",
              "      <td>2</td>\n",
              "      <td>164</td>\n",
              "      <td>audi</td>\n",
              "      <td>gas</td>\n",
              "      <td>std</td>\n",
              "      <td>four</td>\n",
              "      <td>sedan</td>\n",
              "      <td>4wd</td>\n",
              "      <td>front</td>\n",
              "      <td>99.4</td>\n",
              "      <td>176.6</td>\n",
              "      <td>66.4</td>\n",
              "      <td>54.3</td>\n",
              "      <td>2824</td>\n",
              "      <td>ohc</td>\n",
              "      <td>five</td>\n",
              "      <td>136</td>\n",
              "      <td>mpfi</td>\n",
              "      <td>3.19</td>\n",
              "      <td>3.40</td>\n",
              "      <td>8.0</td>\n",
              "      <td>115</td>\n",
              "      <td>5500</td>\n",
              "      <td>18</td>\n",
              "      <td>22</td>\n",
              "      <td>17450</td>\n",
              "    </tr>\n",
              "    <tr>\n",
              "      <th>...</th>\n",
              "      <td>...</td>\n",
              "      <td>...</td>\n",
              "      <td>...</td>\n",
              "      <td>...</td>\n",
              "      <td>...</td>\n",
              "      <td>...</td>\n",
              "      <td>...</td>\n",
              "      <td>...</td>\n",
              "      <td>...</td>\n",
              "      <td>...</td>\n",
              "      <td>...</td>\n",
              "      <td>...</td>\n",
              "      <td>...</td>\n",
              "      <td>...</td>\n",
              "      <td>...</td>\n",
              "      <td>...</td>\n",
              "      <td>...</td>\n",
              "      <td>...</td>\n",
              "      <td>...</td>\n",
              "      <td>...</td>\n",
              "      <td>...</td>\n",
              "      <td>...</td>\n",
              "      <td>...</td>\n",
              "      <td>...</td>\n",
              "      <td>...</td>\n",
              "      <td>...</td>\n",
              "    </tr>\n",
              "    <tr>\n",
              "      <th>200</th>\n",
              "      <td>-1</td>\n",
              "      <td>95</td>\n",
              "      <td>volvo</td>\n",
              "      <td>gas</td>\n",
              "      <td>std</td>\n",
              "      <td>four</td>\n",
              "      <td>sedan</td>\n",
              "      <td>rwd</td>\n",
              "      <td>front</td>\n",
              "      <td>109.1</td>\n",
              "      <td>188.8</td>\n",
              "      <td>68.9</td>\n",
              "      <td>55.5</td>\n",
              "      <td>2952</td>\n",
              "      <td>ohc</td>\n",
              "      <td>four</td>\n",
              "      <td>141</td>\n",
              "      <td>mpfi</td>\n",
              "      <td>3.78</td>\n",
              "      <td>3.15</td>\n",
              "      <td>9.5</td>\n",
              "      <td>114</td>\n",
              "      <td>5400</td>\n",
              "      <td>23</td>\n",
              "      <td>28</td>\n",
              "      <td>16845</td>\n",
              "    </tr>\n",
              "    <tr>\n",
              "      <th>201</th>\n",
              "      <td>-1</td>\n",
              "      <td>95</td>\n",
              "      <td>volvo</td>\n",
              "      <td>gas</td>\n",
              "      <td>turbo</td>\n",
              "      <td>four</td>\n",
              "      <td>sedan</td>\n",
              "      <td>rwd</td>\n",
              "      <td>front</td>\n",
              "      <td>109.1</td>\n",
              "      <td>188.8</td>\n",
              "      <td>68.8</td>\n",
              "      <td>55.5</td>\n",
              "      <td>3049</td>\n",
              "      <td>ohc</td>\n",
              "      <td>four</td>\n",
              "      <td>141</td>\n",
              "      <td>mpfi</td>\n",
              "      <td>3.78</td>\n",
              "      <td>3.15</td>\n",
              "      <td>8.7</td>\n",
              "      <td>160</td>\n",
              "      <td>5300</td>\n",
              "      <td>19</td>\n",
              "      <td>25</td>\n",
              "      <td>19045</td>\n",
              "    </tr>\n",
              "    <tr>\n",
              "      <th>202</th>\n",
              "      <td>-1</td>\n",
              "      <td>95</td>\n",
              "      <td>volvo</td>\n",
              "      <td>gas</td>\n",
              "      <td>std</td>\n",
              "      <td>four</td>\n",
              "      <td>sedan</td>\n",
              "      <td>rwd</td>\n",
              "      <td>front</td>\n",
              "      <td>109.1</td>\n",
              "      <td>188.8</td>\n",
              "      <td>68.9</td>\n",
              "      <td>55.5</td>\n",
              "      <td>3012</td>\n",
              "      <td>ohcv</td>\n",
              "      <td>six</td>\n",
              "      <td>173</td>\n",
              "      <td>mpfi</td>\n",
              "      <td>3.58</td>\n",
              "      <td>2.87</td>\n",
              "      <td>8.8</td>\n",
              "      <td>134</td>\n",
              "      <td>5500</td>\n",
              "      <td>18</td>\n",
              "      <td>23</td>\n",
              "      <td>21485</td>\n",
              "    </tr>\n",
              "    <tr>\n",
              "      <th>203</th>\n",
              "      <td>-1</td>\n",
              "      <td>95</td>\n",
              "      <td>volvo</td>\n",
              "      <td>diesel</td>\n",
              "      <td>turbo</td>\n",
              "      <td>four</td>\n",
              "      <td>sedan</td>\n",
              "      <td>rwd</td>\n",
              "      <td>front</td>\n",
              "      <td>109.1</td>\n",
              "      <td>188.8</td>\n",
              "      <td>68.9</td>\n",
              "      <td>55.5</td>\n",
              "      <td>3217</td>\n",
              "      <td>ohc</td>\n",
              "      <td>six</td>\n",
              "      <td>145</td>\n",
              "      <td>idi</td>\n",
              "      <td>3.01</td>\n",
              "      <td>3.40</td>\n",
              "      <td>23.0</td>\n",
              "      <td>106</td>\n",
              "      <td>4800</td>\n",
              "      <td>26</td>\n",
              "      <td>27</td>\n",
              "      <td>22470</td>\n",
              "    </tr>\n",
              "    <tr>\n",
              "      <th>204</th>\n",
              "      <td>-1</td>\n",
              "      <td>95</td>\n",
              "      <td>volvo</td>\n",
              "      <td>gas</td>\n",
              "      <td>turbo</td>\n",
              "      <td>four</td>\n",
              "      <td>sedan</td>\n",
              "      <td>rwd</td>\n",
              "      <td>front</td>\n",
              "      <td>109.1</td>\n",
              "      <td>188.8</td>\n",
              "      <td>68.9</td>\n",
              "      <td>55.5</td>\n",
              "      <td>3062</td>\n",
              "      <td>ohc</td>\n",
              "      <td>four</td>\n",
              "      <td>141</td>\n",
              "      <td>mpfi</td>\n",
              "      <td>3.78</td>\n",
              "      <td>3.15</td>\n",
              "      <td>9.5</td>\n",
              "      <td>114</td>\n",
              "      <td>5400</td>\n",
              "      <td>19</td>\n",
              "      <td>25</td>\n",
              "      <td>22625</td>\n",
              "    </tr>\n",
              "  </tbody>\n",
              "</table>\n",
              "<p>205 rows × 26 columns</p>\n",
              "</div>"
            ],
            "text/plain": [
              "     symboling normalized-losses         make  ... city-mpg highway-mpg  price\n",
              "0            3                 ?  alfa-romero  ...       21          27  13495\n",
              "1            3                 ?  alfa-romero  ...       21          27  16500\n",
              "2            1                 ?  alfa-romero  ...       19          26  16500\n",
              "3            2               164         audi  ...       24          30  13950\n",
              "4            2               164         audi  ...       18          22  17450\n",
              "..         ...               ...          ...  ...      ...         ...    ...\n",
              "200         -1                95        volvo  ...       23          28  16845\n",
              "201         -1                95        volvo  ...       19          25  19045\n",
              "202         -1                95        volvo  ...       18          23  21485\n",
              "203         -1                95        volvo  ...       26          27  22470\n",
              "204         -1                95        volvo  ...       19          25  22625\n",
              "\n",
              "[205 rows x 26 columns]"
            ]
          },
          "metadata": {
            "tags": []
          },
          "execution_count": 3
        }
      ]
    },
    {
      "cell_type": "markdown",
      "metadata": {
        "id": "0wfdRGxat_bD"
      },
      "source": [
        "Filtramos los datos que caracterizan los autos y la anchura que es la que vamos a analizar."
      ]
    },
    {
      "cell_type": "code",
      "metadata": {
        "id": "8AWu3-8bpYfy"
      },
      "source": [
        "df_vol= df.loc[:, ['make', 'num-of-doors', 'body-style', 'width']]"
      ],
      "execution_count": 4,
      "outputs": []
    },
    {
      "cell_type": "code",
      "metadata": {
        "colab": {
          "base_uri": "https://localhost:8080/",
          "height": 424
        },
        "id": "A39dPvzAv12q",
        "outputId": "a7f6541e-be78-40fc-db2b-d8a0df68d950"
      },
      "source": [
        "df_vol"
      ],
      "execution_count": 5,
      "outputs": [
        {
          "output_type": "execute_result",
          "data": {
            "text/html": [
              "<div>\n",
              "<style scoped>\n",
              "    .dataframe tbody tr th:only-of-type {\n",
              "        vertical-align: middle;\n",
              "    }\n",
              "\n",
              "    .dataframe tbody tr th {\n",
              "        vertical-align: top;\n",
              "    }\n",
              "\n",
              "    .dataframe thead th {\n",
              "        text-align: right;\n",
              "    }\n",
              "</style>\n",
              "<table border=\"1\" class=\"dataframe\">\n",
              "  <thead>\n",
              "    <tr style=\"text-align: right;\">\n",
              "      <th></th>\n",
              "      <th>make</th>\n",
              "      <th>num-of-doors</th>\n",
              "      <th>body-style</th>\n",
              "      <th>width</th>\n",
              "    </tr>\n",
              "  </thead>\n",
              "  <tbody>\n",
              "    <tr>\n",
              "      <th>0</th>\n",
              "      <td>alfa-romero</td>\n",
              "      <td>two</td>\n",
              "      <td>convertible</td>\n",
              "      <td>64.1</td>\n",
              "    </tr>\n",
              "    <tr>\n",
              "      <th>1</th>\n",
              "      <td>alfa-romero</td>\n",
              "      <td>two</td>\n",
              "      <td>convertible</td>\n",
              "      <td>64.1</td>\n",
              "    </tr>\n",
              "    <tr>\n",
              "      <th>2</th>\n",
              "      <td>alfa-romero</td>\n",
              "      <td>two</td>\n",
              "      <td>hatchback</td>\n",
              "      <td>65.5</td>\n",
              "    </tr>\n",
              "    <tr>\n",
              "      <th>3</th>\n",
              "      <td>audi</td>\n",
              "      <td>four</td>\n",
              "      <td>sedan</td>\n",
              "      <td>66.2</td>\n",
              "    </tr>\n",
              "    <tr>\n",
              "      <th>4</th>\n",
              "      <td>audi</td>\n",
              "      <td>four</td>\n",
              "      <td>sedan</td>\n",
              "      <td>66.4</td>\n",
              "    </tr>\n",
              "    <tr>\n",
              "      <th>...</th>\n",
              "      <td>...</td>\n",
              "      <td>...</td>\n",
              "      <td>...</td>\n",
              "      <td>...</td>\n",
              "    </tr>\n",
              "    <tr>\n",
              "      <th>200</th>\n",
              "      <td>volvo</td>\n",
              "      <td>four</td>\n",
              "      <td>sedan</td>\n",
              "      <td>68.9</td>\n",
              "    </tr>\n",
              "    <tr>\n",
              "      <th>201</th>\n",
              "      <td>volvo</td>\n",
              "      <td>four</td>\n",
              "      <td>sedan</td>\n",
              "      <td>68.8</td>\n",
              "    </tr>\n",
              "    <tr>\n",
              "      <th>202</th>\n",
              "      <td>volvo</td>\n",
              "      <td>four</td>\n",
              "      <td>sedan</td>\n",
              "      <td>68.9</td>\n",
              "    </tr>\n",
              "    <tr>\n",
              "      <th>203</th>\n",
              "      <td>volvo</td>\n",
              "      <td>four</td>\n",
              "      <td>sedan</td>\n",
              "      <td>68.9</td>\n",
              "    </tr>\n",
              "    <tr>\n",
              "      <th>204</th>\n",
              "      <td>volvo</td>\n",
              "      <td>four</td>\n",
              "      <td>sedan</td>\n",
              "      <td>68.9</td>\n",
              "    </tr>\n",
              "  </tbody>\n",
              "</table>\n",
              "<p>205 rows × 4 columns</p>\n",
              "</div>"
            ],
            "text/plain": [
              "            make num-of-doors   body-style  width\n",
              "0    alfa-romero          two  convertible   64.1\n",
              "1    alfa-romero          two  convertible   64.1\n",
              "2    alfa-romero          two    hatchback   65.5\n",
              "3           audi         four        sedan   66.2\n",
              "4           audi         four        sedan   66.4\n",
              "..           ...          ...          ...    ...\n",
              "200        volvo         four        sedan   68.9\n",
              "201        volvo         four        sedan   68.8\n",
              "202        volvo         four        sedan   68.9\n",
              "203        volvo         four        sedan   68.9\n",
              "204        volvo         four        sedan   68.9\n",
              "\n",
              "[205 rows x 4 columns]"
            ]
          },
          "metadata": {
            "tags": []
          },
          "execution_count": 5
        }
      ]
    },
    {
      "cell_type": "markdown",
      "metadata": {
        "id": "NKH31Mt7t2VE"
      },
      "source": [
        "Para mejor visibilidad se van a cambiar a español la cantidad de puertas ya que más adelante se mostrarán los resultados."
      ]
    },
    {
      "cell_type": "code",
      "metadata": {
        "colab": {
          "base_uri": "https://localhost:8080/"
        },
        "id": "0-2oSOFdukNz",
        "outputId": "8e331034-b326-40da-808d-73e4b7ee1ee7"
      },
      "source": [
        "df_vol['num-of-doors'].unique()"
      ],
      "execution_count": 6,
      "outputs": [
        {
          "output_type": "execute_result",
          "data": {
            "text/plain": [
              "array(['two', 'four', '?'], dtype=object)"
            ]
          },
          "metadata": {
            "tags": []
          },
          "execution_count": 6
        }
      ]
    },
    {
      "cell_type": "markdown",
      "metadata": {
        "id": "i7omE_Ofu4R9"
      },
      "source": [
        "Se puede observar que solo contamos con autos que tinen dos puertas, cuatro puertas y una cantidad indeterminadas de puertas. La cantidad indeterminada de puertas no afecta en lo absoluto al ejemplo, por lo tanto lo vamos a dejar como un dato desconocido."
      ]
    },
    {
      "cell_type": "code",
      "metadata": {
        "colab": {
          "base_uri": "https://localhost:8080/"
        },
        "id": "LT4_oG2wuNwz",
        "outputId": "6e47e2fe-5679-466d-e84d-f3eb6f455ada"
      },
      "source": [
        "df_vol['num-of-doors'][df_vol['num-of-doors'] == 'two'] = 'dos'\n",
        "df_vol['num-of-doors'][df_vol['num-of-doors'] == 'four'] = 'cuatro'"
      ],
      "execution_count": 7,
      "outputs": [
        {
          "output_type": "stream",
          "text": [
            "/usr/local/lib/python3.6/dist-packages/ipykernel_launcher.py:1: SettingWithCopyWarning: \n",
            "A value is trying to be set on a copy of a slice from a DataFrame\n",
            "\n",
            "See the caveats in the documentation: https://pandas.pydata.org/pandas-docs/stable/user_guide/indexing.html#returning-a-view-versus-a-copy\n",
            "  \"\"\"Entry point for launching an IPython kernel.\n",
            "/usr/local/lib/python3.6/dist-packages/ipykernel_launcher.py:2: SettingWithCopyWarning: \n",
            "A value is trying to be set on a copy of a slice from a DataFrame\n",
            "\n",
            "See the caveats in the documentation: https://pandas.pydata.org/pandas-docs/stable/user_guide/indexing.html#returning-a-view-versus-a-copy\n",
            "  \n"
          ],
          "name": "stderr"
        }
      ]
    },
    {
      "cell_type": "code",
      "metadata": {
        "colab": {
          "base_uri": "https://localhost:8080/",
          "height": 424
        },
        "id": "lLKj98WRt00y",
        "outputId": "433ddc59-7ef4-4ad9-b6d1-2e5558a889b1"
      },
      "source": [
        "df_vol"
      ],
      "execution_count": 8,
      "outputs": [
        {
          "output_type": "execute_result",
          "data": {
            "text/html": [
              "<div>\n",
              "<style scoped>\n",
              "    .dataframe tbody tr th:only-of-type {\n",
              "        vertical-align: middle;\n",
              "    }\n",
              "\n",
              "    .dataframe tbody tr th {\n",
              "        vertical-align: top;\n",
              "    }\n",
              "\n",
              "    .dataframe thead th {\n",
              "        text-align: right;\n",
              "    }\n",
              "</style>\n",
              "<table border=\"1\" class=\"dataframe\">\n",
              "  <thead>\n",
              "    <tr style=\"text-align: right;\">\n",
              "      <th></th>\n",
              "      <th>make</th>\n",
              "      <th>num-of-doors</th>\n",
              "      <th>body-style</th>\n",
              "      <th>width</th>\n",
              "    </tr>\n",
              "  </thead>\n",
              "  <tbody>\n",
              "    <tr>\n",
              "      <th>0</th>\n",
              "      <td>alfa-romero</td>\n",
              "      <td>dos</td>\n",
              "      <td>convertible</td>\n",
              "      <td>64.1</td>\n",
              "    </tr>\n",
              "    <tr>\n",
              "      <th>1</th>\n",
              "      <td>alfa-romero</td>\n",
              "      <td>dos</td>\n",
              "      <td>convertible</td>\n",
              "      <td>64.1</td>\n",
              "    </tr>\n",
              "    <tr>\n",
              "      <th>2</th>\n",
              "      <td>alfa-romero</td>\n",
              "      <td>dos</td>\n",
              "      <td>hatchback</td>\n",
              "      <td>65.5</td>\n",
              "    </tr>\n",
              "    <tr>\n",
              "      <th>3</th>\n",
              "      <td>audi</td>\n",
              "      <td>cuatro</td>\n",
              "      <td>sedan</td>\n",
              "      <td>66.2</td>\n",
              "    </tr>\n",
              "    <tr>\n",
              "      <th>4</th>\n",
              "      <td>audi</td>\n",
              "      <td>cuatro</td>\n",
              "      <td>sedan</td>\n",
              "      <td>66.4</td>\n",
              "    </tr>\n",
              "    <tr>\n",
              "      <th>...</th>\n",
              "      <td>...</td>\n",
              "      <td>...</td>\n",
              "      <td>...</td>\n",
              "      <td>...</td>\n",
              "    </tr>\n",
              "    <tr>\n",
              "      <th>200</th>\n",
              "      <td>volvo</td>\n",
              "      <td>cuatro</td>\n",
              "      <td>sedan</td>\n",
              "      <td>68.9</td>\n",
              "    </tr>\n",
              "    <tr>\n",
              "      <th>201</th>\n",
              "      <td>volvo</td>\n",
              "      <td>cuatro</td>\n",
              "      <td>sedan</td>\n",
              "      <td>68.8</td>\n",
              "    </tr>\n",
              "    <tr>\n",
              "      <th>202</th>\n",
              "      <td>volvo</td>\n",
              "      <td>cuatro</td>\n",
              "      <td>sedan</td>\n",
              "      <td>68.9</td>\n",
              "    </tr>\n",
              "    <tr>\n",
              "      <th>203</th>\n",
              "      <td>volvo</td>\n",
              "      <td>cuatro</td>\n",
              "      <td>sedan</td>\n",
              "      <td>68.9</td>\n",
              "    </tr>\n",
              "    <tr>\n",
              "      <th>204</th>\n",
              "      <td>volvo</td>\n",
              "      <td>cuatro</td>\n",
              "      <td>sedan</td>\n",
              "      <td>68.9</td>\n",
              "    </tr>\n",
              "  </tbody>\n",
              "</table>\n",
              "<p>205 rows × 4 columns</p>\n",
              "</div>"
            ],
            "text/plain": [
              "            make num-of-doors   body-style  width\n",
              "0    alfa-romero          dos  convertible   64.1\n",
              "1    alfa-romero          dos  convertible   64.1\n",
              "2    alfa-romero          dos    hatchback   65.5\n",
              "3           audi       cuatro        sedan   66.2\n",
              "4           audi       cuatro        sedan   66.4\n",
              "..           ...          ...          ...    ...\n",
              "200        volvo       cuatro        sedan   68.9\n",
              "201        volvo       cuatro        sedan   68.8\n",
              "202        volvo       cuatro        sedan   68.9\n",
              "203        volvo       cuatro        sedan   68.9\n",
              "204        volvo       cuatro        sedan   68.9\n",
              "\n",
              "[205 rows x 4 columns]"
            ]
          },
          "metadata": {
            "tags": []
          },
          "execution_count": 8
        }
      ]
    },
    {
      "cell_type": "code",
      "metadata": {
        "id": "17zD5nMCyOWJ",
        "colab": {
          "base_uri": "https://localhost:8080/"
        },
        "outputId": "b59a41a7-3b33-4632-e732-6eef9e33f380"
      },
      "source": [
        "np_vol = df_vol['width'].values\n",
        "print(np_vol)"
      ],
      "execution_count": 9,
      "outputs": [
        {
          "output_type": "stream",
          "text": [
            "[64.1 64.1 65.5 66.2 66.4 66.3 71.4 71.4 71.4 67.9 64.8 64.8 64.8 64.8\n",
            " 66.9 66.9 67.9 70.9 60.3 63.6 63.6 63.8 63.8 63.8 63.8 63.8 63.8 63.8\n",
            " 64.6 66.3 63.9 63.9 64.  64.  64.  64.  63.9 65.2 65.2 65.2 62.5 65.2\n",
            " 66.  61.8 63.6 63.6 65.2 69.6 69.6 70.6 64.2 64.2 64.2 64.2 64.2 65.7\n",
            " 65.7 65.7 65.7 66.5 66.5 66.5 66.5 66.5 66.5 66.1 66.1 70.3 70.3 70.3\n",
            " 71.7 71.7 70.5 71.7 72.  68.  64.4 64.4 64.4 63.8 65.4 65.4 66.3 66.3\n",
            " 66.3 65.4 65.4 65.4 65.4 63.8 63.8 63.8 63.8 63.8 63.8 63.8 63.8 63.8\n",
            " 63.8 65.2 65.2 66.5 66.5 66.5 67.9 67.9 67.9 68.4 68.4 68.4 68.4 68.4\n",
            " 68.4 68.4 68.4 68.4 68.4 68.3 63.8 63.8 63.8 63.8 63.8 64.6 66.3 68.3\n",
            " 65.  65.  65.  72.3 66.5 66.6 66.5 66.5 66.5 66.5 66.5 66.5 63.4 63.6\n",
            " 63.8 65.4 65.4 65.4 65.4 65.4 65.4 65.4 65.4 65.4 63.6 63.6 63.6 63.6\n",
            " 63.6 63.6 64.4 64.4 64.4 64.4 64.4 64.4 64.4 64.  64.  64.  64.  65.6\n",
            " 65.6 65.6 65.6 65.6 65.6 66.5 66.5 66.5 66.5 66.5 67.7 67.7 66.5 66.5\n",
            " 65.5 65.5 65.5 65.5 65.5 65.5 65.5 64.2 64.  66.9 66.9 66.9 67.2 67.2\n",
            " 67.2 67.2 67.2 67.2 68.9 68.8 68.9 68.9 68.9]\n"
          ],
          "name": "stdout"
        }
      ]
    },
    {
      "cell_type": "code",
      "metadata": {
        "id": "IOCTz_a4xBMJ",
        "colab": {
          "base_uri": "https://localhost:8080/",
          "height": 279
        },
        "outputId": "11cb7bb1-2e2b-4e18-d344-c40abe26821c"
      },
      "source": [
        "red_diamond = dict(markerfacecolor='r', marker='D')\n",
        "\n",
        "boxplot = plt.boxplot(np_vol, flierprops=red_diamond)\n",
        "#Mostramos la mediana\n",
        "med = boxplot['medians'][0]\n",
        "xpos = med.get_xdata()\n",
        "xoff = 0.10 * (xpos[1] - xpos[0])\n",
        "xlabel = xpos[1] + xoff\n",
        "median = med.get_ydata()[1]\n",
        "plt.text(xlabel, median, 'Mediana = {:6.3g}'.format(median), va='center')\n",
        "#Mostramos el primer y tercer cuartil \n",
        "cua = boxplot['boxes'][0]\n",
        "pc25 = cua.get_ydata().min()\n",
        "pc75 = cua.get_ydata().max()\n",
        "plt.text(xlabel, pc25, '1er cuartil  = {:6.3g}'.format(pc25), va='center')\n",
        "plt.text(xlabel, pc75, '3er cuartil = {:6.3g}'.format(pc75), va='center')\n",
        "#Mostramos los bigotes\n",
        "bigo = boxplot['caps']\n",
        "capbottom = bigo[0].get_ydata()[0]\n",
        "captop = bigo[1].get_ydata()[0]\n",
        "plt.text(xlabel, capbottom, 'Bigote inferior = {:6.3g}'.format(capbottom), va='center')\n",
        "plt.text(xlabel, captop, 'Bigote superior = {:6.3g}'.format(captop), va='center')\n",
        "plt.xlabel('Anchura')\n",
        "plt.show()\n"
      ],
      "execution_count": 10,
      "outputs": [
        {
          "output_type": "display_data",
          "data": {
            "image/png": "[encoded data removed]",
            "text/plain": [
              "<Figure size 432x288 with 1 Axes>"
            ]
          },
          "metadata": {
            "tags": [],
            "needs_background": "light"
          }
        }
      ]
    },
    {
      "cell_type": "markdown",
      "metadata": {
        "id": "UtrE72eIoMpw"
      },
      "source": [
        "Se puede observar que en la anchura de los automoviles se tienen anomalías, ahora pasamos a identificar cuales son los datos anómalos.\n",
        "Dado que el bigote superior tiene un valor de 70.9, se va a tomar que cualquier valor de anchura que supere ese valor de 70.9 se va a considerar como anomalía. "
      ]
    },
    {
      "cell_type": "code",
      "metadata": {
        "colab": {
          "base_uri": "https://localhost:8080/"
        },
        "id": "rkfM4FQqore3",
        "outputId": "57fa1370-0ef6-4429-fba7-bac0ec527be0"
      },
      "source": [
        "# Las anomalías devueltas por la gráfica BoxPlot\n",
        "anom_bp = boxplot['fliers'][0]\n",
        "anom_bp.get_ydata()"
      ],
      "execution_count": 11,
      "outputs": [
        {
          "output_type": "execute_result",
          "data": {
            "text/plain": [
              "array([71.4, 71.4, 71.4, 71.7, 71.7, 71.7, 72. , 72.3])"
            ]
          },
          "metadata": {
            "tags": []
          },
          "execution_count": 11
        }
      ]
    },
    {
      "cell_type": "code",
      "metadata": {
        "colab": {
          "base_uri": "https://localhost:8080/"
        },
        "id": "V8awalKNo4Go",
        "outputId": "9a0dbacb-8afb-4dbc-f865-6366e79a040c"
      },
      "source": [
        "print(\"Se van a mostrar las marcas que son anomálas en la anchura de sus autos\")\n",
        "for cont, anchura in enumerate(np_vol):\n",
        "    if anchura > captop:\n",
        "        print(\"El auto {} de marca {} con {} puertas, presenta una anchura anómala.\".format(df_vol.iloc[cont, 2], \n",
        "            df_vol.iloc[cont, 0], df_vol.iloc[cont, 1]))\n",
        "        print()"
      ],
      "execution_count": 12,
      "outputs": [
        {
          "output_type": "stream",
          "text": [
            "Se van a mostrar las marcas que son anomálas en la anchura de sus autos\n",
            "El auto sedan de marca audi con cuatro puertas, presenta una anchura anómala.\n",
            "\n",
            "El auto wagon de marca audi con cuatro puertas, presenta una anchura anómala.\n",
            "\n",
            "El auto sedan de marca audi con cuatro puertas, presenta una anchura anómala.\n",
            "\n",
            "El auto sedan de marca mercedes-benz con cuatro puertas, presenta una anchura anómala.\n",
            "\n",
            "El auto sedan de marca mercedes-benz con cuatro puertas, presenta una anchura anómala.\n",
            "\n",
            "El auto sedan de marca mercedes-benz con cuatro puertas, presenta una anchura anómala.\n",
            "\n",
            "El auto hardtop de marca mercedes-benz con dos puertas, presenta una anchura anómala.\n",
            "\n",
            "El auto hatchback de marca porsche con dos puertas, presenta una anchura anómala.\n",
            "\n"
          ],
          "name": "stdout"
        }
      ]
    },
    {
      "cell_type": "code",
      "metadata": {
        "id": "fJPOTg2MwZtS"
      },
      "source": [
        ""
      ],
      "execution_count": null,
      "outputs": []
    }
  ]
}