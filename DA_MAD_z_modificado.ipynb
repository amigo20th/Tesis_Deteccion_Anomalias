{
  "nbformat": 4,
  "nbformat_minor": 0,
  "metadata": {
    "colab": {
      "name": "DA_MAD_z_modificado.ipynb",
      "provenance": []
    },
    "kernelspec": {
      "name": "python3",
      "display_name": "Python 3"
    }
  },
  "cells": [
    {
      "cell_type": "markdown",
      "metadata": {
        "id": "o3591v7xhDOe"
      },
      "source": [
        "# Detección de anomalías por MAD #\n",
        "El presente código corresponde al ejemplo de detección de anomalías mediante MAD. Lo que busca este código es brindar una guía o tutorial para las personas que mantegan dudas respecto a cómo es la aplicación del método. \n",
        "\n",
        "Este código corresponde a la tesis:\n",
        "\n",
        "\"Investigación, Implementación y Medición de Distintos Algoritmos para la Detección de Anomalías\""
      ]
    },
    {
      "cell_type": "markdown",
      "metadata": {
        "id": "DlaiSbKViW78"
      },
      "source": [
        "<H2>El conjunto de datos</H2>\n",
        "El conjunto de datos utilizado para el siguiente análisis fue sacado de la siguiente publicación:\n",
        "\n",
        "\n",
        "*  Sokal, R. R., & Hunter, P. E. (1955). A Morphometric Analysis of Ddt-Resistant and Non-Resistant House Fly Strains1, 2. Annals of the Entomological Society of America, 48(6), 499–507. https://doi.org/10.1093/aesa/48.6.499\n",
        "\n",
        "El conjunto de datos es una muestra de una población de moscas domésticas a las cuales se les midieron sus alas y se registraron.\n",
        "Las mediciones tomadas para la anterior investigación representan una distribución Gaussina, estos datos pertenecen al campo de la biometría.\n",
        "\n",
        "El conjunto de datos se puede adquirir libremente en la siguiente liga:\n",
        "\n",
        "\n",
        "*   https://seattlecentral.edu/qelp/sets/057/057.html#About\n",
        "\n",
        "\n"
      ]
    },
    {
      "cell_type": "code",
      "metadata": {
        "id": "oulTBMbohwm3"
      },
      "source": [
        "import numpy as np\n",
        "import matplotlib.pyplot as plt\n",
        "import seaborn as sns\n",
        "import pandas as pd\n",
        "from scipy.stats import shapiro"
      ],
      "execution_count": 1,
      "outputs": []
    },
    {
      "cell_type": "code",
      "metadata": {
        "id": "DTwEypjKiqK3"
      },
      "source": [
        "df = pd.read_csv(\"/content/sample_data/dataset_ala_mosca_domestica.csv\", sep=';',\n",
        "                 names = ['long_ala'])"
      ],
      "execution_count": 2,
      "outputs": []
    },
    {
      "cell_type": "code",
      "metadata": {
        "colab": {
          "base_uri": "https://localhost:8080/",
          "height": 424
        },
        "id": "7v1OOFJxiuwQ",
        "outputId": "a0aeaec9-5c71-47ea-ab8a-53c14f558a19"
      },
      "source": [
        "df"
      ],
      "execution_count": 3,
      "outputs": [
        {
          "output_type": "execute_result",
          "data": {
            "text/html": [
              "<div>\n",
              "<style scoped>\n",
              "    .dataframe tbody tr th:only-of-type {\n",
              "        vertical-align: middle;\n",
              "    }\n",
              "\n",
              "    .dataframe tbody tr th {\n",
              "        vertical-align: top;\n",
              "    }\n",
              "\n",
              "    .dataframe thead th {\n",
              "        text-align: right;\n",
              "    }\n",
              "</style>\n",
              "<table border=\"1\" class=\"dataframe\">\n",
              "  <thead>\n",
              "    <tr style=\"text-align: right;\">\n",
              "      <th></th>\n",
              "      <th>long_ala</th>\n",
              "    </tr>\n",
              "  </thead>\n",
              "  <tbody>\n",
              "    <tr>\n",
              "      <th>0</th>\n",
              "      <td>36</td>\n",
              "    </tr>\n",
              "    <tr>\n",
              "      <th>1</th>\n",
              "      <td>37</td>\n",
              "    </tr>\n",
              "    <tr>\n",
              "      <th>2</th>\n",
              "      <td>38</td>\n",
              "    </tr>\n",
              "    <tr>\n",
              "      <th>3</th>\n",
              "      <td>38</td>\n",
              "    </tr>\n",
              "    <tr>\n",
              "      <th>4</th>\n",
              "      <td>39</td>\n",
              "    </tr>\n",
              "    <tr>\n",
              "      <th>...</th>\n",
              "      <td>...</td>\n",
              "    </tr>\n",
              "    <tr>\n",
              "      <th>95</th>\n",
              "      <td>52</td>\n",
              "    </tr>\n",
              "    <tr>\n",
              "      <th>96</th>\n",
              "      <td>53</td>\n",
              "    </tr>\n",
              "    <tr>\n",
              "      <th>97</th>\n",
              "      <td>53</td>\n",
              "    </tr>\n",
              "    <tr>\n",
              "      <th>98</th>\n",
              "      <td>54</td>\n",
              "    </tr>\n",
              "    <tr>\n",
              "      <th>99</th>\n",
              "      <td>55</td>\n",
              "    </tr>\n",
              "  </tbody>\n",
              "</table>\n",
              "<p>100 rows × 1 columns</p>\n",
              "</div>"
            ],
            "text/plain": [
              "    long_ala\n",
              "0         36\n",
              "1         37\n",
              "2         38\n",
              "3         38\n",
              "4         39\n",
              "..       ...\n",
              "95        52\n",
              "96        53\n",
              "97        53\n",
              "98        54\n",
              "99        55\n",
              "\n",
              "[100 rows x 1 columns]"
            ]
          },
          "metadata": {
            "tags": []
          },
          "execution_count": 3
        }
      ]
    },
    {
      "cell_type": "markdown",
      "metadata": {
        "id": "GNAQGTESizuz"
      },
      "source": [
        "Se puede observar que la muestra crea una perfecta campana de Gauss, por ende vamos a insertar un dato artificalmente para juegue el rol de anomalía y así crear un ejemplo de juguete."
      ]
    },
    {
      "cell_type": "code",
      "metadata": {
        "colab": {
          "base_uri": "https://localhost:8080/",
          "height": 340
        },
        "id": "4ZX4FsKAi0OP",
        "outputId": "d61c60fc-b4a8-4b39-f255-af1ddc675ef9"
      },
      "source": [
        "sns.distplot(df)"
      ],
      "execution_count": 4,
      "outputs": [
        {
          "output_type": "stream",
          "text": [
            "/usr/local/lib/python3.6/dist-packages/seaborn/distributions.py:2551: FutureWarning: `distplot` is a deprecated function and will be removed in a future version. Please adapt your code to use either `displot` (a figure-level function with similar flexibility) or `histplot` (an axes-level function for histograms).\n",
            "  warnings.warn(msg, FutureWarning)\n"
          ],
          "name": "stderr"
        },
        {
          "output_type": "execute_result",
          "data": {
            "text/plain": [
              "<matplotlib.axes._subplots.AxesSubplot at 0x7f35077d0128>"
            ]
          },
          "metadata": {
            "tags": []
          },
          "execution_count": 4
        },
        {
          "output_type": "display_data",
          "data": {
            "image/png": "[encoded data removed]",
            "text/plain": [
              "<Figure size 432x288 with 1 Axes>"
            ]
          },
          "metadata": {
            "tags": [],
            "needs_background": "light"
          }
        }
      ]
    },
    {
      "cell_type": "code",
      "metadata": {
        "id": "OEcjp6FDi1uV"
      },
      "source": [
        "x = df['long_ala'].values"
      ],
      "execution_count": 5,
      "outputs": []
    },
    {
      "cell_type": "code",
      "metadata": {
        "colab": {
          "base_uri": "https://localhost:8080/"
        },
        "id": "l6_H0eeXi5Ss",
        "outputId": "f3461c80-60d5-46a5-d91c-73bd2e9aa5d7"
      },
      "source": [
        "x"
      ],
      "execution_count": 6,
      "outputs": [
        {
          "output_type": "execute_result",
          "data": {
            "text/plain": [
              "array([36, 37, 38, 38, 39, 39, 40, 40, 40, 40, 41, 41, 41, 41, 41, 41, 42,\n",
              "       42, 42, 42, 42, 42, 42, 43, 43, 43, 43, 43, 43, 43, 43, 44, 44, 44,\n",
              "       44, 44, 44, 44, 44, 44, 45, 45, 45, 45, 45, 45, 45, 45, 45, 45, 46,\n",
              "       46, 46, 46, 46, 46, 46, 46, 46, 46, 47, 47, 47, 47, 47, 47, 47, 47,\n",
              "       47, 48, 48, 48, 48, 48, 48, 48, 48, 49, 49, 49, 49, 49, 49, 49, 50,\n",
              "       50, 50, 50, 50, 50, 51, 51, 51, 51, 52, 52, 53, 53, 54, 55])"
            ]
          },
          "metadata": {
            "tags": []
          },
          "execution_count": 6
        }
      ]
    },
    {
      "cell_type": "markdown",
      "metadata": {
        "id": "iaJYVU26jIY0"
      },
      "source": [
        "Añadimos artificialmente un dato que se anómalo en nuestra muestra."
      ]
    },
    {
      "cell_type": "code",
      "metadata": {
        "id": "CcFA2hNVi6j1"
      },
      "source": [
        "x_anom = np.append(x, [62], axis=0)"
      ],
      "execution_count": 7,
      "outputs": []
    },
    {
      "cell_type": "code",
      "metadata": {
        "colab": {
          "base_uri": "https://localhost:8080/"
        },
        "id": "NiJmYKjRjKa1",
        "outputId": "ee8dbf44-5190-440b-a0c7-35eddcc45fb6"
      },
      "source": [
        "x_anom"
      ],
      "execution_count": 8,
      "outputs": [
        {
          "output_type": "execute_result",
          "data": {
            "text/plain": [
              "array([36, 37, 38, 38, 39, 39, 40, 40, 40, 40, 41, 41, 41, 41, 41, 41, 42,\n",
              "       42, 42, 42, 42, 42, 42, 43, 43, 43, 43, 43, 43, 43, 43, 44, 44, 44,\n",
              "       44, 44, 44, 44, 44, 44, 45, 45, 45, 45, 45, 45, 45, 45, 45, 45, 46,\n",
              "       46, 46, 46, 46, 46, 46, 46, 46, 46, 47, 47, 47, 47, 47, 47, 47, 47,\n",
              "       47, 48, 48, 48, 48, 48, 48, 48, 48, 49, 49, 49, 49, 49, 49, 49, 50,\n",
              "       50, 50, 50, 50, 50, 51, 51, 51, 51, 52, 52, 53, 53, 54, 55, 62])"
            ]
          },
          "metadata": {
            "tags": []
          },
          "execution_count": 8
        }
      ]
    },
    {
      "cell_type": "markdown",
      "metadata": {
        "id": "HILGau4CjPXK"
      },
      "source": [
        "Ahora se tiene un el dato anómalo insertado artificalmente dentro del conjunto de datos, pasamos a ver de nuevo el histograma."
      ]
    },
    {
      "cell_type": "code",
      "metadata": {
        "colab": {
          "base_uri": "https://localhost:8080/",
          "height": 340
        },
        "id": "Ay-YgvfqjLrv",
        "outputId": "8a638a17-2ad6-4fb0-8a1b-3fab2b2a686a"
      },
      "source": [
        "sns.distplot(x_anom)"
      ],
      "execution_count": 9,
      "outputs": [
        {
          "output_type": "stream",
          "text": [
            "/usr/local/lib/python3.6/dist-packages/seaborn/distributions.py:2551: FutureWarning: `distplot` is a deprecated function and will be removed in a future version. Please adapt your code to use either `displot` (a figure-level function with similar flexibility) or `histplot` (an axes-level function for histograms).\n",
            "  warnings.warn(msg, FutureWarning)\n"
          ],
          "name": "stderr"
        },
        {
          "output_type": "execute_result",
          "data": {
            "text/plain": [
              "<matplotlib.axes._subplots.AxesSubplot at 0x7f3506486a90>"
            ]
          },
          "metadata": {
            "tags": []
          },
          "execution_count": 9
        },
        {
          "output_type": "display_data",
          "data": {
            "image/png": "[encoded data removed]",
            "text/plain": [
              "<Figure size 432x288 with 1 Axes>"
            ]
          },
          "metadata": {
            "tags": [],
            "needs_background": "light"
          }
        }
      ]
    },
    {
      "cell_type": "markdown",
      "metadata": {
        "id": "CDliEklqjS95"
      },
      "source": [
        "A primera vista se puede indentificar la normalidad de la distribución, y es más notorio aún cuando la muestra es grande. De cualquier manera se debe aplicar una prueba estadística para comprobar formalmente la hipótesis. En este caso vamos a aplicar Shapiro-Wilk.\n",
        "\n",
        "La significancia *a* será 0.05 o el 5 %, si nuestro p-value es mayor a *a* entonces tendremos una distribución normal."
      ]
    },
    {
      "cell_type": "code",
      "metadata": {
        "id": "yhAuodnSjRW5"
      },
      "source": [
        "shapiro_test = shapiro(x_anom)"
      ],
      "execution_count": 10,
      "outputs": []
    },
    {
      "cell_type": "code",
      "metadata": {
        "colab": {
          "base_uri": "https://localhost:8080/"
        },
        "id": "0AiCCjQvjk9z",
        "outputId": "3604d463-82ac-4f6f-d9a6-6aa092bd771c"
      },
      "source": [
        "shapiro_test"
      ],
      "execution_count": 11,
      "outputs": [
        {
          "output_type": "execute_result",
          "data": {
            "text/plain": [
              "(0.978909432888031, 0.10573770105838776)"
            ]
          },
          "metadata": {
            "tags": []
          },
          "execution_count": 11
        }
      ]
    },
    {
      "cell_type": "markdown",
      "metadata": {
        "id": "m92EAua7j8qY"
      },
      "source": [
        "Aquí se puede observar que el p-value que obtuvimos es aproximado a 0.11 lo cual implica que la hipótesis se cumple, ya que p-value es mayor que *a*. Por lo tanto nuestra distribución es normal.\n",
        "Se procede a calcular el MAD para los datos de nuestra muestra."
      ]
    },
    {
      "cell_type": "code",
      "metadata": {
        "id": "X2MXTMegj022"
      },
      "source": [
        "MAD = np.median(np.abs(x_anom - np.median(x_anom)))"
      ],
      "execution_count": 12,
      "outputs": []
    },
    {
      "cell_type": "code",
      "metadata": {
        "colab": {
          "base_uri": "https://localhost:8080/"
        },
        "id": "NOhjpfW-k9sk",
        "outputId": "70b5ea11-4a36-4e6e-9ab7-166bace838cb"
      },
      "source": [
        "MAD"
      ],
      "execution_count": 13,
      "outputs": [
        {
          "output_type": "execute_result",
          "data": {
            "text/plain": [
              "3.0"
            ]
          },
          "metadata": {
            "tags": []
          },
          "execution_count": 13
        }
      ]
    },
    {
      "cell_type": "markdown",
      "metadata": {
        "id": "JfTP_q5AmBRH"
      },
      "source": [
        "Ya tenemos el valor de MAD para nuestras alas de mosca doméstica, ahora pasamos a calcular el valor z modificado para todos los datos de la muestra."
      ]
    },
    {
      "cell_type": "code",
      "metadata": {
        "id": "plkIPDsxmMzJ"
      },
      "source": [
        "z_modificado = (0.6745 * (x_anom - np.median(x_anom))) / MAD"
      ],
      "execution_count": 14,
      "outputs": []
    },
    {
      "cell_type": "code",
      "metadata": {
        "colab": {
          "base_uri": "https://localhost:8080/"
        },
        "id": "bjCpIiBPmfh6",
        "outputId": "742089db-3617-405b-d3aa-20a0f968c48b"
      },
      "source": [
        "z_modificado"
      ],
      "execution_count": 15,
      "outputs": [
        {
          "output_type": "execute_result",
          "data": {
            "text/plain": [
              "array([-2.24833333, -2.0235    , -1.79866667, -1.79866667, -1.57383333,\n",
              "       -1.57383333, -1.349     , -1.349     , -1.349     , -1.349     ,\n",
              "       -1.12416667, -1.12416667, -1.12416667, -1.12416667, -1.12416667,\n",
              "       -1.12416667, -0.89933333, -0.89933333, -0.89933333, -0.89933333,\n",
              "       -0.89933333, -0.89933333, -0.89933333, -0.6745    , -0.6745    ,\n",
              "       -0.6745    , -0.6745    , -0.6745    , -0.6745    , -0.6745    ,\n",
              "       -0.6745    , -0.44966667, -0.44966667, -0.44966667, -0.44966667,\n",
              "       -0.44966667, -0.44966667, -0.44966667, -0.44966667, -0.44966667,\n",
              "       -0.22483333, -0.22483333, -0.22483333, -0.22483333, -0.22483333,\n",
              "       -0.22483333, -0.22483333, -0.22483333, -0.22483333, -0.22483333,\n",
              "        0.        ,  0.        ,  0.        ,  0.        ,  0.        ,\n",
              "        0.        ,  0.        ,  0.        ,  0.        ,  0.        ,\n",
              "        0.22483333,  0.22483333,  0.22483333,  0.22483333,  0.22483333,\n",
              "        0.22483333,  0.22483333,  0.22483333,  0.22483333,  0.44966667,\n",
              "        0.44966667,  0.44966667,  0.44966667,  0.44966667,  0.44966667,\n",
              "        0.44966667,  0.44966667,  0.6745    ,  0.6745    ,  0.6745    ,\n",
              "        0.6745    ,  0.6745    ,  0.6745    ,  0.6745    ,  0.89933333,\n",
              "        0.89933333,  0.89933333,  0.89933333,  0.89933333,  0.89933333,\n",
              "        1.12416667,  1.12416667,  1.12416667,  1.12416667,  1.349     ,\n",
              "        1.349     ,  1.57383333,  1.57383333,  1.79866667,  2.0235    ,\n",
              "        3.59733333])"
            ]
          },
          "metadata": {
            "tags": []
          },
          "execution_count": 15
        }
      ]
    },
    {
      "cell_type": "markdown",
      "metadata": {
        "id": "DvVZF0agngx5"
      },
      "source": [
        "Cabe recordar que para detectar las anomalías, es necesario sacar el valor absoluto del valor z modificado y aquellos valores que sobrepasen 3.5 serán catalogados como anomalías."
      ]
    },
    {
      "cell_type": "code",
      "metadata": {
        "id": "91I_wXmumg0z"
      },
      "source": [
        "z_modificado_abs = np.abs(z_modificado)"
      ],
      "execution_count": 16,
      "outputs": []
    },
    {
      "cell_type": "code",
      "metadata": {
        "colab": {
          "base_uri": "https://localhost:8080/",
          "height": 281
        },
        "id": "xGs890Q-nybP",
        "outputId": "9ea0da78-312d-434d-96fd-e1eec39824fc"
      },
      "source": [
        "plt.scatter(range(len(z_modificado_abs)), z_modificado_abs)\n",
        "plt.axhline(np.mean(z_modificado_abs), color='green', linewidth=2)\n",
        "plt.axhline(3.5, color='orange', linewidth=2)\n",
        "plt.title(\"Valor z Modificado\")\n",
        "for cont, z_score_mod in enumerate(z_modificado_abs):\n",
        "    if z_score_mod >3.5:\n",
        "        plt.scatter(cont, z_score_mod, color='red', edgecolors='black')\n",
        "        plt.text(cont+1.5, z_score_mod, 'ID={}'.format(cont), va='center')\n",
        "\n",
        "plt.show()"
      ],
      "execution_count": 44,
      "outputs": [
        {
          "output_type": "display_data",
          "data": {
            "image/png": "[encoded data removed]",
            "text/plain": [
              "<Figure size 432x288 with 1 Axes>"
            ]
          },
          "metadata": {
            "tags": [],
            "needs_background": "light"
          }
        }
      ]
    },
    {
      "cell_type": "markdown",
      "metadata": {
        "id": "8orEIOxoE3uz"
      },
      "source": [
        "Se puede observar que efectivamente, muestra anomalía, en este caso está resaltada por el color rojo, sobrepasa los 3.5 para ser catalogada como tal.\n",
        "Para corroborar que es el mismo dato insertado, cabe recordar que el dato ingresado arficialmete era el ID = 100, ya que nuestra muestra tenía, anterior a la inserción, 100 elementos que llegaban hasta el ID 99.\n"
      ]
    },
    {
      "cell_type": "code",
      "metadata": {
        "id": "LTbMBlEaFovi"
      },
      "source": [
        ""
      ],
      "execution_count": null,
      "outputs": []
    }
  ]
}